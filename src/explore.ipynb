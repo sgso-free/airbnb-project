{
    "cells": [
        {
            "cell_type": "markdown",
            "metadata": {},
            "source": [
                "# Import Library"
            ]
        },
        {
            "cell_type": "code",
            "execution_count": 96,
            "metadata": {},
            "outputs": [],
            "source": [
                "import pandas as pd\n",
                "import numpy as np\n",
                "import matplotlib.pyplot as plt\n",
                "import seaborn as sns\n",
                "%matplotlib inline"
            ]
        },
        {
            "cell_type": "markdown",
            "metadata": {},
            "source": [
                "# Import Data and Explore"
            ]
        },
        {
            "cell_type": "code",
            "execution_count": 97,
            "metadata": {},
            "outputs": [],
            "source": [
                "#importing the CSV here\n",
                "\n",
                "df = pd.read_csv('../data/raw/AB_NYC_2019.csv',index_col=0)\n"
            ]
        },
        {
            "cell_type": "code",
            "execution_count": 98,
            "metadata": {},
            "outputs": [
                {
                    "name": "stdout",
                    "output_type": "stream",
                    "text": [
                        "<class 'pandas.core.frame.DataFrame'>\n",
                        "Int64Index: 48895 entries, 2539 to 36487245\n",
                        "Data columns (total 15 columns):\n",
                        " #   Column                          Non-Null Count  Dtype  \n",
                        "---  ------                          --------------  -----  \n",
                        " 0   name                            48879 non-null  object \n",
                        " 1   host_id                         48895 non-null  int64  \n",
                        " 2   host_name                       48874 non-null  object \n",
                        " 3   neighbourhood_group             48895 non-null  object \n",
                        " 4   neighbourhood                   48895 non-null  object \n",
                        " 5   latitude                        48895 non-null  float64\n",
                        " 6   longitude                       48895 non-null  float64\n",
                        " 7   room_type                       48895 non-null  object \n",
                        " 8   price                           48895 non-null  int64  \n",
                        " 9   minimum_nights                  48895 non-null  int64  \n",
                        " 10  number_of_reviews               48895 non-null  int64  \n",
                        " 11  last_review                     38843 non-null  object \n",
                        " 12  reviews_per_month               38843 non-null  float64\n",
                        " 13  calculated_host_listings_count  48895 non-null  int64  \n",
                        " 14  availability_365                48895 non-null  int64  \n",
                        "dtypes: float64(3), int64(6), object(6)\n",
                        "memory usage: 6.0+ MB\n"
                    ]
                }
            ],
            "source": [
                "df.info()"
            ]
        },
        {
            "cell_type": "markdown",
            "metadata": {},
            "source": [
                "Observations:\n",
                "\n",
                "We can see that our data has 48895  rows and 14 columns.\n",
                "\n",
                "Our data has 9 numerical features, 5 categorical features and 1 datatime\n",
                "\n",
                "Feature last_review and reviews_per_month has 10.050 null values from a total of 48895 rows,"
            ]
        },
        {
            "cell_type": "markdown",
            "metadata": {},
            "source": [
                "# Explore Data"
            ]
        },
        {
            "cell_type": "code",
            "execution_count": 99,
            "metadata": {},
            "outputs": [
                {
                    "data": {
                        "text/html": [
                            "<div>\n",
                            "<style scoped>\n",
                            "    .dataframe tbody tr th:only-of-type {\n",
                            "        vertical-align: middle;\n",
                            "    }\n",
                            "\n",
                            "    .dataframe tbody tr th {\n",
                            "        vertical-align: top;\n",
                            "    }\n",
                            "\n",
                            "    .dataframe thead th {\n",
                            "        text-align: right;\n",
                            "    }\n",
                            "</style>\n",
                            "<table border=\"1\" class=\"dataframe\">\n",
                            "  <thead>\n",
                            "    <tr style=\"text-align: right;\">\n",
                            "      <th></th>\n",
                            "      <th>name</th>\n",
                            "      <th>host_id</th>\n",
                            "      <th>host_name</th>\n",
                            "      <th>neighbourhood_group</th>\n",
                            "      <th>neighbourhood</th>\n",
                            "      <th>latitude</th>\n",
                            "      <th>longitude</th>\n",
                            "      <th>room_type</th>\n",
                            "      <th>price</th>\n",
                            "      <th>minimum_nights</th>\n",
                            "      <th>number_of_reviews</th>\n",
                            "      <th>last_review</th>\n",
                            "      <th>reviews_per_month</th>\n",
                            "      <th>calculated_host_listings_count</th>\n",
                            "      <th>availability_365</th>\n",
                            "    </tr>\n",
                            "    <tr>\n",
                            "      <th>id</th>\n",
                            "      <th></th>\n",
                            "      <th></th>\n",
                            "      <th></th>\n",
                            "      <th></th>\n",
                            "      <th></th>\n",
                            "      <th></th>\n",
                            "      <th></th>\n",
                            "      <th></th>\n",
                            "      <th></th>\n",
                            "      <th></th>\n",
                            "      <th></th>\n",
                            "      <th></th>\n",
                            "      <th></th>\n",
                            "      <th></th>\n",
                            "      <th></th>\n",
                            "    </tr>\n",
                            "  </thead>\n",
                            "  <tbody>\n",
                            "    <tr>\n",
                            "      <th>9990200</th>\n",
                            "      <td>Artist Escape With Private Terrace</td>\n",
                            "      <td>4878363</td>\n",
                            "      <td>Jessie</td>\n",
                            "      <td>Brooklyn</td>\n",
                            "      <td>Bedford-Stuyvesant</td>\n",
                            "      <td>40.68624</td>\n",
                            "      <td>-73.94349</td>\n",
                            "      <td>Private room</td>\n",
                            "      <td>25</td>\n",
                            "      <td>1</td>\n",
                            "      <td>7</td>\n",
                            "      <td>2018-08-28</td>\n",
                            "      <td>0.19</td>\n",
                            "      <td>2</td>\n",
                            "      <td>8</td>\n",
                            "    </tr>\n",
                            "    <tr>\n",
                            "      <th>35431739</th>\n",
                            "      <td>Cozy and nice apartment in Upper East Side</td>\n",
                            "      <td>31043699</td>\n",
                            "      <td>Nikki</td>\n",
                            "      <td>Manhattan</td>\n",
                            "      <td>Upper East Side</td>\n",
                            "      <td>40.78037</td>\n",
                            "      <td>-73.94657</td>\n",
                            "      <td>Entire home/apt</td>\n",
                            "      <td>120</td>\n",
                            "      <td>5</td>\n",
                            "      <td>1</td>\n",
                            "      <td>2019-06-23</td>\n",
                            "      <td>1.00</td>\n",
                            "      <td>1</td>\n",
                            "      <td>23</td>\n",
                            "    </tr>\n",
                            "    <tr>\n",
                            "      <th>16813292</th>\n",
                            "      <td>Stylish Private Room + Bath in the Heart of LES</td>\n",
                            "      <td>1229568</td>\n",
                            "      <td>Matt &amp; Kathleen</td>\n",
                            "      <td>Manhattan</td>\n",
                            "      <td>Lower East Side</td>\n",
                            "      <td>40.72190</td>\n",
                            "      <td>-73.98717</td>\n",
                            "      <td>Private room</td>\n",
                            "      <td>174</td>\n",
                            "      <td>2</td>\n",
                            "      <td>100</td>\n",
                            "      <td>2019-06-24</td>\n",
                            "      <td>3.34</td>\n",
                            "      <td>1</td>\n",
                            "      <td>145</td>\n",
                            "    </tr>\n",
                            "    <tr>\n",
                            "      <th>31835917</th>\n",
                            "      <td>Chic and cozy</td>\n",
                            "      <td>26317294</td>\n",
                            "      <td>Denise</td>\n",
                            "      <td>Manhattan</td>\n",
                            "      <td>Upper West Side</td>\n",
                            "      <td>40.77796</td>\n",
                            "      <td>-73.98213</td>\n",
                            "      <td>Private room</td>\n",
                            "      <td>95</td>\n",
                            "      <td>275</td>\n",
                            "      <td>0</td>\n",
                            "      <td>NaN</td>\n",
                            "      <td>NaN</td>\n",
                            "      <td>1</td>\n",
                            "      <td>365</td>\n",
                            "    </tr>\n",
                            "    <tr>\n",
                            "      <th>34420605</th>\n",
                            "      <td>Great Apartment spacious quiet neighborhood 2BedR</td>\n",
                            "      <td>178689185</td>\n",
                            "      <td>Shem</td>\n",
                            "      <td>Brooklyn</td>\n",
                            "      <td>Prospect-Lefferts Gardens</td>\n",
                            "      <td>40.66371</td>\n",
                            "      <td>-73.94351</td>\n",
                            "      <td>Entire home/apt</td>\n",
                            "      <td>125</td>\n",
                            "      <td>4</td>\n",
                            "      <td>3</td>\n",
                            "      <td>2019-05-27</td>\n",
                            "      <td>1.64</td>\n",
                            "      <td>1</td>\n",
                            "      <td>145</td>\n",
                            "    </tr>\n",
                            "    <tr>\n",
                            "      <th>4221999</th>\n",
                            "      <td>Spacious &amp; Bright: 1 BR Midtown!</td>\n",
                            "      <td>20335235</td>\n",
                            "      <td>Stephen</td>\n",
                            "      <td>Manhattan</td>\n",
                            "      <td>Midtown</td>\n",
                            "      <td>40.75576</td>\n",
                            "      <td>-73.96548</td>\n",
                            "      <td>Entire home/apt</td>\n",
                            "      <td>225</td>\n",
                            "      <td>1</td>\n",
                            "      <td>10</td>\n",
                            "      <td>2018-08-22</td>\n",
                            "      <td>0.18</td>\n",
                            "      <td>1</td>\n",
                            "      <td>0</td>\n",
                            "    </tr>\n",
                            "    <tr>\n",
                            "      <th>24083746</th>\n",
                            "      <td>Cozy private room available from January 1st</td>\n",
                            "      <td>32434287</td>\n",
                            "      <td>David</td>\n",
                            "      <td>Manhattan</td>\n",
                            "      <td>Harlem</td>\n",
                            "      <td>40.81787</td>\n",
                            "      <td>-73.94286</td>\n",
                            "      <td>Private room</td>\n",
                            "      <td>65</td>\n",
                            "      <td>3</td>\n",
                            "      <td>1</td>\n",
                            "      <td>2018-05-08</td>\n",
                            "      <td>0.07</td>\n",
                            "      <td>1</td>\n",
                            "      <td>0</td>\n",
                            "    </tr>\n",
                            "    <tr>\n",
                            "      <th>8973292</th>\n",
                            "      <td>Cozy Upper East Side two bedroom</td>\n",
                            "      <td>1372837</td>\n",
                            "      <td>Manoj</td>\n",
                            "      <td>Manhattan</td>\n",
                            "      <td>Upper East Side</td>\n",
                            "      <td>40.77595</td>\n",
                            "      <td>-73.94969</td>\n",
                            "      <td>Entire home/apt</td>\n",
                            "      <td>295</td>\n",
                            "      <td>4</td>\n",
                            "      <td>0</td>\n",
                            "      <td>NaN</td>\n",
                            "      <td>NaN</td>\n",
                            "      <td>1</td>\n",
                            "      <td>0</td>\n",
                            "    </tr>\n",
                            "    <tr>\n",
                            "      <th>33444493</th>\n",
                            "      <td>★Single Room in Backpackers Accommodation★</td>\n",
                            "      <td>56060787</td>\n",
                            "      <td>International</td>\n",
                            "      <td>Brooklyn</td>\n",
                            "      <td>Williamsburg</td>\n",
                            "      <td>40.70908</td>\n",
                            "      <td>-73.95663</td>\n",
                            "      <td>Private room</td>\n",
                            "      <td>55</td>\n",
                            "      <td>1</td>\n",
                            "      <td>14</td>\n",
                            "      <td>2019-06-23</td>\n",
                            "      <td>4.47</td>\n",
                            "      <td>1</td>\n",
                            "      <td>295</td>\n",
                            "    </tr>\n",
                            "    <tr>\n",
                            "      <th>8866435</th>\n",
                            "      <td>RARE &amp; AWESOME Williamsburg Loft!</td>\n",
                            "      <td>3629010</td>\n",
                            "      <td>William</td>\n",
                            "      <td>Brooklyn</td>\n",
                            "      <td>Williamsburg</td>\n",
                            "      <td>40.71248</td>\n",
                            "      <td>-73.96679</td>\n",
                            "      <td>Entire home/apt</td>\n",
                            "      <td>200</td>\n",
                            "      <td>20</td>\n",
                            "      <td>0</td>\n",
                            "      <td>NaN</td>\n",
                            "      <td>NaN</td>\n",
                            "      <td>1</td>\n",
                            "      <td>0</td>\n",
                            "    </tr>\n",
                            "  </tbody>\n",
                            "</table>\n",
                            "</div>"
                        ],
                        "text/plain": [
                            "                                                       name    host_id  \\\n",
                            "id                                                                       \n",
                            "9990200                  Artist Escape With Private Terrace    4878363   \n",
                            "35431739         Cozy and nice apartment in Upper East Side   31043699   \n",
                            "16813292    Stylish Private Room + Bath in the Heart of LES    1229568   \n",
                            "31835917                                      Chic and cozy   26317294   \n",
                            "34420605  Great Apartment spacious quiet neighborhood 2BedR  178689185   \n",
                            "4221999                    Spacious & Bright: 1 BR Midtown!   20335235   \n",
                            "24083746       Cozy private room available from January 1st   32434287   \n",
                            "8973292                    Cozy Upper East Side two bedroom    1372837   \n",
                            "33444493         ★Single Room in Backpackers Accommodation★   56060787   \n",
                            "8866435                   RARE & AWESOME Williamsburg Loft!    3629010   \n",
                            "\n",
                            "                host_name neighbourhood_group              neighbourhood  \\\n",
                            "id                                                                         \n",
                            "9990200            Jessie            Brooklyn         Bedford-Stuyvesant   \n",
                            "35431739            Nikki           Manhattan            Upper East Side   \n",
                            "16813292  Matt & Kathleen           Manhattan            Lower East Side   \n",
                            "31835917           Denise           Manhattan            Upper West Side   \n",
                            "34420605             Shem            Brooklyn  Prospect-Lefferts Gardens   \n",
                            "4221999           Stephen           Manhattan                    Midtown   \n",
                            "24083746            David           Manhattan                     Harlem   \n",
                            "8973292             Manoj           Manhattan            Upper East Side   \n",
                            "33444493    International            Brooklyn               Williamsburg   \n",
                            "8866435           William            Brooklyn               Williamsburg   \n",
                            "\n",
                            "          latitude  longitude        room_type  price  minimum_nights  \\\n",
                            "id                                                                      \n",
                            "9990200   40.68624  -73.94349     Private room     25               1   \n",
                            "35431739  40.78037  -73.94657  Entire home/apt    120               5   \n",
                            "16813292  40.72190  -73.98717     Private room    174               2   \n",
                            "31835917  40.77796  -73.98213     Private room     95             275   \n",
                            "34420605  40.66371  -73.94351  Entire home/apt    125               4   \n",
                            "4221999   40.75576  -73.96548  Entire home/apt    225               1   \n",
                            "24083746  40.81787  -73.94286     Private room     65               3   \n",
                            "8973292   40.77595  -73.94969  Entire home/apt    295               4   \n",
                            "33444493  40.70908  -73.95663     Private room     55               1   \n",
                            "8866435   40.71248  -73.96679  Entire home/apt    200              20   \n",
                            "\n",
                            "          number_of_reviews last_review  reviews_per_month  \\\n",
                            "id                                                           \n",
                            "9990200                   7  2018-08-28               0.19   \n",
                            "35431739                  1  2019-06-23               1.00   \n",
                            "16813292                100  2019-06-24               3.34   \n",
                            "31835917                  0         NaN                NaN   \n",
                            "34420605                  3  2019-05-27               1.64   \n",
                            "4221999                  10  2018-08-22               0.18   \n",
                            "24083746                  1  2018-05-08               0.07   \n",
                            "8973292                   0         NaN                NaN   \n",
                            "33444493                 14  2019-06-23               4.47   \n",
                            "8866435                   0         NaN                NaN   \n",
                            "\n",
                            "          calculated_host_listings_count  availability_365  \n",
                            "id                                                          \n",
                            "9990200                                2                 8  \n",
                            "35431739                               1                23  \n",
                            "16813292                               1               145  \n",
                            "31835917                               1               365  \n",
                            "34420605                               1               145  \n",
                            "4221999                                1                 0  \n",
                            "24083746                               1                 0  \n",
                            "8973292                                1                 0  \n",
                            "33444493                               1               295  \n",
                            "8866435                                1                 0  "
                        ]
                    },
                    "execution_count": 99,
                    "metadata": {},
                    "output_type": "execute_result"
                }
            ],
            "source": [
                "df.sample(10)"
            ]
        },
        {
            "cell_type": "markdown",
            "metadata": {},
            "source": [
                "# Set Datatype"
            ]
        },
        {
            "cell_type": "code",
            "execution_count": 100,
            "metadata": {},
            "outputs": [
                {
                    "data": {
                        "text/plain": [
                            "name                                      object\n",
                            "host_id                                    int64\n",
                            "host_name                                 object\n",
                            "neighbourhood_group                     category\n",
                            "neighbourhood                           category\n",
                            "latitude                                 float64\n",
                            "longitude                                float64\n",
                            "room_type                               category\n",
                            "price                                      int64\n",
                            "minimum_nights                             int64\n",
                            "number_of_reviews                          int64\n",
                            "last_review                       datetime64[ns]\n",
                            "reviews_per_month                        float64\n",
                            "calculated_host_listings_count             int64\n",
                            "availability_365                           int64\n",
                            "dtype: object"
                        ]
                    },
                    "execution_count": 100,
                    "metadata": {},
                    "output_type": "execute_result"
                }
            ],
            "source": [
                "#set categorical data and datatime\n",
                "df=df.astype({'name':'str','host_name':'str','neighbourhood_group':'category','neighbourhood':'category','room_type':'category'})\n",
                "df['last_review'] = pd.to_datetime(df['last_review'], format=\"%Y/%m/%d\")\n",
                "df.dtypes\n"
            ]
        },
        {
            "cell_type": "code",
            "execution_count": 101,
            "metadata": {},
            "outputs": [
                {
                    "data": {
                        "text/html": [
                            "<div>\n",
                            "<style scoped>\n",
                            "    .dataframe tbody tr th:only-of-type {\n",
                            "        vertical-align: middle;\n",
                            "    }\n",
                            "\n",
                            "    .dataframe tbody tr th {\n",
                            "        vertical-align: top;\n",
                            "    }\n",
                            "\n",
                            "    .dataframe thead th {\n",
                            "        text-align: right;\n",
                            "    }\n",
                            "</style>\n",
                            "<table border=\"1\" class=\"dataframe\">\n",
                            "  <thead>\n",
                            "    <tr style=\"text-align: right;\">\n",
                            "      <th></th>\n",
                            "      <th>neighbourhood_group</th>\n",
                            "      <th>neighbourhood</th>\n",
                            "      <th>room_type</th>\n",
                            "      <th>last_review</th>\n",
                            "    </tr>\n",
                            "  </thead>\n",
                            "  <tbody>\n",
                            "    <tr>\n",
                            "      <th>count</th>\n",
                            "      <td>48895</td>\n",
                            "      <td>48895</td>\n",
                            "      <td>48895</td>\n",
                            "      <td>38843</td>\n",
                            "    </tr>\n",
                            "    <tr>\n",
                            "      <th>unique</th>\n",
                            "      <td>5</td>\n",
                            "      <td>221</td>\n",
                            "      <td>3</td>\n",
                            "      <td>NaN</td>\n",
                            "    </tr>\n",
                            "    <tr>\n",
                            "      <th>top</th>\n",
                            "      <td>Manhattan</td>\n",
                            "      <td>Williamsburg</td>\n",
                            "      <td>Entire home/apt</td>\n",
                            "      <td>NaN</td>\n",
                            "    </tr>\n",
                            "    <tr>\n",
                            "      <th>freq</th>\n",
                            "      <td>21661</td>\n",
                            "      <td>3920</td>\n",
                            "      <td>25409</td>\n",
                            "      <td>NaN</td>\n",
                            "    </tr>\n",
                            "    <tr>\n",
                            "      <th>mean</th>\n",
                            "      <td>NaN</td>\n",
                            "      <td>NaN</td>\n",
                            "      <td>NaN</td>\n",
                            "      <td>2018-10-04 01:47:23.910099456</td>\n",
                            "    </tr>\n",
                            "    <tr>\n",
                            "      <th>min</th>\n",
                            "      <td>NaN</td>\n",
                            "      <td>NaN</td>\n",
                            "      <td>NaN</td>\n",
                            "      <td>2011-03-28 00:00:00</td>\n",
                            "    </tr>\n",
                            "    <tr>\n",
                            "      <th>25%</th>\n",
                            "      <td>NaN</td>\n",
                            "      <td>NaN</td>\n",
                            "      <td>NaN</td>\n",
                            "      <td>2018-07-08 00:00:00</td>\n",
                            "    </tr>\n",
                            "    <tr>\n",
                            "      <th>50%</th>\n",
                            "      <td>NaN</td>\n",
                            "      <td>NaN</td>\n",
                            "      <td>NaN</td>\n",
                            "      <td>2019-05-19 00:00:00</td>\n",
                            "    </tr>\n",
                            "    <tr>\n",
                            "      <th>75%</th>\n",
                            "      <td>NaN</td>\n",
                            "      <td>NaN</td>\n",
                            "      <td>NaN</td>\n",
                            "      <td>2019-06-23 00:00:00</td>\n",
                            "    </tr>\n",
                            "    <tr>\n",
                            "      <th>max</th>\n",
                            "      <td>NaN</td>\n",
                            "      <td>NaN</td>\n",
                            "      <td>NaN</td>\n",
                            "      <td>2019-07-08 00:00:00</td>\n",
                            "    </tr>\n",
                            "  </tbody>\n",
                            "</table>\n",
                            "</div>"
                        ],
                        "text/plain": [
                            "       neighbourhood_group neighbourhood        room_type  \\\n",
                            "count                48895         48895            48895   \n",
                            "unique                   5           221                3   \n",
                            "top              Manhattan  Williamsburg  Entire home/apt   \n",
                            "freq                 21661          3920            25409   \n",
                            "mean                   NaN           NaN              NaN   \n",
                            "min                    NaN           NaN              NaN   \n",
                            "25%                    NaN           NaN              NaN   \n",
                            "50%                    NaN           NaN              NaN   \n",
                            "75%                    NaN           NaN              NaN   \n",
                            "max                    NaN           NaN              NaN   \n",
                            "\n",
                            "                          last_review  \n",
                            "count                           38843  \n",
                            "unique                            NaN  \n",
                            "top                               NaN  \n",
                            "freq                              NaN  \n",
                            "mean    2018-10-04 01:47:23.910099456  \n",
                            "min               2011-03-28 00:00:00  \n",
                            "25%               2018-07-08 00:00:00  \n",
                            "50%               2019-05-19 00:00:00  \n",
                            "75%               2019-06-23 00:00:00  \n",
                            "max               2019-07-08 00:00:00  "
                        ]
                    },
                    "execution_count": 101,
                    "metadata": {},
                    "output_type": "execute_result"
                }
            ],
            "source": [
                "round(df.describe(include=['category','datetime64'],datetime_is_numeric=True))"
            ]
        },
        {
            "cell_type": "code",
            "execution_count": 102,
            "metadata": {},
            "outputs": [
                {
                    "data": {
                        "text/plain": [
                            "['Private room', 'Entire home/apt', 'Shared room']"
                        ]
                    },
                    "execution_count": 102,
                    "metadata": {},
                    "output_type": "execute_result"
                }
            ],
            "source": [
                "#in this case 3 room_type\n",
                "room_type=list(df['room_type'].unique())\n",
                "room_type"
            ]
        },
        {
            "cell_type": "code",
            "execution_count": 103,
            "metadata": {},
            "outputs": [
                {
                    "data": {
                        "text/plain": [
                            "['Brooklyn', 'Manhattan', 'Queens', 'Staten Island', 'Bronx']"
                        ]
                    },
                    "execution_count": 103,
                    "metadata": {},
                    "output_type": "execute_result"
                }
            ],
            "source": [
                "#in this case 5 neighbourhood_group\n",
                "neighbourhood_group=list(df['neighbourhood_group'].unique())\n",
                "neighbourhood_group"
            ]
        },
        {
            "cell_type": "code",
            "execution_count": 104,
            "metadata": {},
            "outputs": [
                {
                    "data": {
                        "text/html": [
                            "<div>\n",
                            "<style scoped>\n",
                            "    .dataframe tbody tr th:only-of-type {\n",
                            "        vertical-align: middle;\n",
                            "    }\n",
                            "\n",
                            "    .dataframe tbody tr th {\n",
                            "        vertical-align: top;\n",
                            "    }\n",
                            "\n",
                            "    .dataframe thead th {\n",
                            "        text-align: right;\n",
                            "    }\n",
                            "</style>\n",
                            "<table border=\"1\" class=\"dataframe\">\n",
                            "  <thead>\n",
                            "    <tr style=\"text-align: right;\">\n",
                            "      <th></th>\n",
                            "      <th>host_id</th>\n",
                            "      <th>price</th>\n",
                            "      <th>minimum_nights</th>\n",
                            "      <th>number_of_reviews</th>\n",
                            "      <th>calculated_host_listings_count</th>\n",
                            "      <th>availability_365</th>\n",
                            "    </tr>\n",
                            "  </thead>\n",
                            "  <tbody>\n",
                            "    <tr>\n",
                            "      <th>count</th>\n",
                            "      <td>48895.0</td>\n",
                            "      <td>48895.0</td>\n",
                            "      <td>48895.0</td>\n",
                            "      <td>48895.0</td>\n",
                            "      <td>48895.0</td>\n",
                            "      <td>48895.0</td>\n",
                            "    </tr>\n",
                            "    <tr>\n",
                            "      <th>mean</th>\n",
                            "      <td>67620011.0</td>\n",
                            "      <td>153.0</td>\n",
                            "      <td>7.0</td>\n",
                            "      <td>23.0</td>\n",
                            "      <td>7.0</td>\n",
                            "      <td>113.0</td>\n",
                            "    </tr>\n",
                            "    <tr>\n",
                            "      <th>std</th>\n",
                            "      <td>78610967.0</td>\n",
                            "      <td>240.0</td>\n",
                            "      <td>21.0</td>\n",
                            "      <td>45.0</td>\n",
                            "      <td>33.0</td>\n",
                            "      <td>132.0</td>\n",
                            "    </tr>\n",
                            "    <tr>\n",
                            "      <th>min</th>\n",
                            "      <td>2438.0</td>\n",
                            "      <td>0.0</td>\n",
                            "      <td>1.0</td>\n",
                            "      <td>0.0</td>\n",
                            "      <td>1.0</td>\n",
                            "      <td>0.0</td>\n",
                            "    </tr>\n",
                            "    <tr>\n",
                            "      <th>25%</th>\n",
                            "      <td>7822033.0</td>\n",
                            "      <td>69.0</td>\n",
                            "      <td>1.0</td>\n",
                            "      <td>1.0</td>\n",
                            "      <td>1.0</td>\n",
                            "      <td>0.0</td>\n",
                            "    </tr>\n",
                            "    <tr>\n",
                            "      <th>50%</th>\n",
                            "      <td>30793816.0</td>\n",
                            "      <td>106.0</td>\n",
                            "      <td>3.0</td>\n",
                            "      <td>5.0</td>\n",
                            "      <td>1.0</td>\n",
                            "      <td>45.0</td>\n",
                            "    </tr>\n",
                            "    <tr>\n",
                            "      <th>75%</th>\n",
                            "      <td>107434423.0</td>\n",
                            "      <td>175.0</td>\n",
                            "      <td>5.0</td>\n",
                            "      <td>24.0</td>\n",
                            "      <td>2.0</td>\n",
                            "      <td>227.0</td>\n",
                            "    </tr>\n",
                            "    <tr>\n",
                            "      <th>max</th>\n",
                            "      <td>274321313.0</td>\n",
                            "      <td>10000.0</td>\n",
                            "      <td>1250.0</td>\n",
                            "      <td>629.0</td>\n",
                            "      <td>327.0</td>\n",
                            "      <td>365.0</td>\n",
                            "    </tr>\n",
                            "  </tbody>\n",
                            "</table>\n",
                            "</div>"
                        ],
                        "text/plain": [
                            "           host_id    price  minimum_nights  number_of_reviews  \\\n",
                            "count      48895.0  48895.0         48895.0            48895.0   \n",
                            "mean    67620011.0    153.0             7.0               23.0   \n",
                            "std     78610967.0    240.0            21.0               45.0   \n",
                            "min         2438.0      0.0             1.0                0.0   \n",
                            "25%      7822033.0     69.0             1.0                1.0   \n",
                            "50%     30793816.0    106.0             3.0                5.0   \n",
                            "75%    107434423.0    175.0             5.0               24.0   \n",
                            "max    274321313.0  10000.0          1250.0              629.0   \n",
                            "\n",
                            "       calculated_host_listings_count  availability_365  \n",
                            "count                         48895.0           48895.0  \n",
                            "mean                              7.0             113.0  \n",
                            "std                              33.0             132.0  \n",
                            "min                               1.0               0.0  \n",
                            "25%                               1.0               0.0  \n",
                            "50%                               1.0              45.0  \n",
                            "75%                               2.0             227.0  \n",
                            "max                             327.0             365.0  "
                        ]
                    },
                    "execution_count": 104,
                    "metadata": {},
                    "output_type": "execute_result"
                }
            ],
            "source": [
                "round(df.describe(include=['int64']))"
            ]
        },
        {
            "cell_type": "markdown",
            "metadata": {},
            "source": [
                "Strange value minimum_nights 1250"
            ]
        },
        {
            "cell_type": "code",
            "execution_count": 105,
            "metadata": {},
            "outputs": [
                {
                    "data": {
                        "text/plain": [
                            "array([   1,    3,   10,   45,    2,    5,    4,   90,    7,   14,   60,\n",
                            "         29,   30,  180,    9,   31,    6,   15,    8,   26,   28,  200,\n",
                            "         50,   17,   21,   11,   25,   13,   35,   27,   18,   20,   40,\n",
                            "         44,   65,   55,  120,  365,  122,   19,  240,   88,  115,  150,\n",
                            "        370,   16,   80,  181,  265,  300,   59,  185,  360,   56,   12,\n",
                            "         70,   39,   24,   32, 1000,  110,  270,   22,   75,  250,   62,\n",
                            "         23, 1250,  364,   74,  198,  100,  500,   43,   91,  480,   53,\n",
                            "         99,  160,   47,  999,  186,  366,   68,   93,   87,  183,  299,\n",
                            "        175,   98,  133,  354,   42,   33,   37,  225,  400,  105,  184,\n",
                            "        153,  134,  222,   58,  210,  275,  182,  114,   85,   36])"
                        ]
                    },
                    "execution_count": 105,
                    "metadata": {},
                    "output_type": "execute_result"
                }
            ],
            "source": [
                "df['minimum_nights'].unique()"
            ]
        },
        {
            "cell_type": "markdown",
            "metadata": {},
            "source": [
                "Note: Strange values > 360 as minimun night"
            ]
        },
        {
            "cell_type": "markdown",
            "metadata": {},
            "source": [
                "## Studie None values"
            ]
        },
        {
            "cell_type": "code",
            "execution_count": 106,
            "metadata": {},
            "outputs": [
                {
                    "data": {
                        "text/plain": [
                            "(10052, 15)"
                        ]
                    },
                    "execution_count": 106,
                    "metadata": {},
                    "output_type": "execute_result"
                }
            ],
            "source": [
                "# last_review and reviews_per_month\n",
                "df_null = df[df['last_review'].isnull() | df['reviews_per_month'].isnull()]\n",
                "df_null.shape\n"
            ]
        },
        {
            "cell_type": "markdown",
            "metadata": {},
            "source": [
                "Note: the tuple have both feature null if have null"
            ]
        },
        {
            "cell_type": "code",
            "execution_count": 107,
            "metadata": {},
            "outputs": [
                {
                    "data": {
                        "text/plain": [
                            "(10052, 15)"
                        ]
                    },
                    "execution_count": 107,
                    "metadata": {},
                    "output_type": "execute_result"
                }
            ],
            "source": [
                "df_0 = df[df['number_of_reviews']==0 & df['last_review'].isnull()]\n",
                "df_0.shape"
            ]
        },
        {
            "cell_type": "code",
            "execution_count": 108,
            "metadata": {},
            "outputs": [],
            "source": [
                "#change review_per_month to 0\n",
                "df['reviews_per_month'].fillna(0,inplace=True)"
            ]
        },
        {
            "cell_type": "code",
            "execution_count": 109,
            "metadata": {},
            "outputs": [
                {
                    "data": {
                        "text/plain": [
                            "(0, 15)"
                        ]
                    },
                    "execution_count": 109,
                    "metadata": {},
                    "output_type": "execute_result"
                }
            ],
            "source": [
                "df[df['reviews_per_month'].isnull()].shape"
            ]
        },
        {
            "cell_type": "markdown",
            "metadata": {},
            "source": [
                "The last_review not change, becasue is a datatiem. And if have not review, is right to be null "
            ]
        },
        {
            "cell_type": "markdown",
            "metadata": {},
            "source": [
                "# STEP 2\n",
                "## What can we learn about different hosts and areas?\n"
            ]
        },
        {
            "cell_type": "code",
            "execution_count": 110,
            "metadata": {},
            "outputs": [
                {
                    "data": {
                        "text/html": [
                            "<div>\n",
                            "<style scoped>\n",
                            "    .dataframe tbody tr th:only-of-type {\n",
                            "        vertical-align: middle;\n",
                            "    }\n",
                            "\n",
                            "    .dataframe tbody tr th {\n",
                            "        vertical-align: top;\n",
                            "    }\n",
                            "\n",
                            "    .dataframe thead th {\n",
                            "        text-align: right;\n",
                            "    }\n",
                            "</style>\n",
                            "<table border=\"1\" class=\"dataframe\">\n",
                            "  <thead>\n",
                            "    <tr style=\"text-align: right;\">\n",
                            "      <th></th>\n",
                            "      <th>number_of_reviews</th>\n",
                            "    </tr>\n",
                            "    <tr>\n",
                            "      <th>host_id</th>\n",
                            "      <th></th>\n",
                            "    </tr>\n",
                            "  </thead>\n",
                            "  <tbody>\n",
                            "    <tr>\n",
                            "      <th>37312959</th>\n",
                            "      <td>2273</td>\n",
                            "    </tr>\n",
                            "    <tr>\n",
                            "      <th>344035</th>\n",
                            "      <td>2205</td>\n",
                            "    </tr>\n",
                            "    <tr>\n",
                            "      <th>26432133</th>\n",
                            "      <td>2017</td>\n",
                            "    </tr>\n",
                            "    <tr>\n",
                            "      <th>35524316</th>\n",
                            "      <td>1971</td>\n",
                            "    </tr>\n",
                            "    <tr>\n",
                            "      <th>40176101</th>\n",
                            "      <td>1818</td>\n",
                            "    </tr>\n",
                            "    <tr>\n",
                            "      <th>4734398</th>\n",
                            "      <td>1798</td>\n",
                            "    </tr>\n",
                            "    <tr>\n",
                            "      <th>16677326</th>\n",
                            "      <td>1355</td>\n",
                            "    </tr>\n",
                            "    <tr>\n",
                            "      <th>6885157</th>\n",
                            "      <td>1346</td>\n",
                            "    </tr>\n",
                            "    <tr>\n",
                            "      <th>219517861</th>\n",
                            "      <td>1281</td>\n",
                            "    </tr>\n",
                            "    <tr>\n",
                            "      <th>23591164</th>\n",
                            "      <td>1269</td>\n",
                            "    </tr>\n",
                            "  </tbody>\n",
                            "</table>\n",
                            "</div>"
                        ],
                        "text/plain": [
                            "           number_of_reviews\n",
                            "host_id                     \n",
                            "37312959                2273\n",
                            "344035                  2205\n",
                            "26432133                2017\n",
                            "35524316                1971\n",
                            "40176101                1818\n",
                            "4734398                 1798\n",
                            "16677326                1355\n",
                            "6885157                 1346\n",
                            "219517861               1281\n",
                            "23591164                1269"
                        ]
                    },
                    "execution_count": 110,
                    "metadata": {},
                    "output_type": "execute_result"
                }
            ],
            "source": [
                "#top 10 of hosting by number_of_reviews\n",
                "#df.groupby(['host_id'])['number_of_reviews','id'].agg({'id':pd.Series.nunique,'number_of_reviews':'sum'}).sort_values(by=['number_of_reviews','id'],ascending=False)[0:10]\n",
                "df.groupby(['host_id'])[['host_id','number_of_reviews']].agg({'number_of_reviews':sum}).sort_values(by=['number_of_reviews','host_id'],ascending=False)[0:10]\n"
            ]
        },
        {
            "cell_type": "code",
            "execution_count": 111,
            "metadata": {},
            "outputs": [
                {
                    "data": {
                        "text/html": [
                            "<div>\n",
                            "<style scoped>\n",
                            "    .dataframe tbody tr th:only-of-type {\n",
                            "        vertical-align: middle;\n",
                            "    }\n",
                            "\n",
                            "    .dataframe tbody tr th {\n",
                            "        vertical-align: top;\n",
                            "    }\n",
                            "\n",
                            "    .dataframe thead th {\n",
                            "        text-align: right;\n",
                            "    }\n",
                            "</style>\n",
                            "<table border=\"1\" class=\"dataframe\">\n",
                            "  <thead>\n",
                            "    <tr style=\"text-align: right;\">\n",
                            "      <th></th>\n",
                            "      <th></th>\n",
                            "      <th>number_of_reviews</th>\n",
                            "    </tr>\n",
                            "    <tr>\n",
                            "      <th>host_id</th>\n",
                            "      <th>neighbourhood_group</th>\n",
                            "      <th></th>\n",
                            "    </tr>\n",
                            "  </thead>\n",
                            "  <tbody>\n",
                            "    <tr>\n",
                            "      <th>37312959</th>\n",
                            "      <th>Queens</th>\n",
                            "      <td>2273</td>\n",
                            "    </tr>\n",
                            "    <tr>\n",
                            "      <th>344035</th>\n",
                            "      <th>Brooklyn</th>\n",
                            "      <td>2205</td>\n",
                            "    </tr>\n",
                            "    <tr>\n",
                            "      <th>26432133</th>\n",
                            "      <th>Queens</th>\n",
                            "      <td>2017</td>\n",
                            "    </tr>\n",
                            "    <tr>\n",
                            "      <th>35524316</th>\n",
                            "      <th>Manhattan</th>\n",
                            "      <td>1971</td>\n",
                            "    </tr>\n",
                            "    <tr>\n",
                            "      <th>40176101</th>\n",
                            "      <th>Brooklyn</th>\n",
                            "      <td>1818</td>\n",
                            "    </tr>\n",
                            "    <tr>\n",
                            "      <th>4734398</th>\n",
                            "      <th>Manhattan</th>\n",
                            "      <td>1798</td>\n",
                            "    </tr>\n",
                            "    <tr>\n",
                            "      <th>16677326</th>\n",
                            "      <th>Manhattan</th>\n",
                            "      <td>1355</td>\n",
                            "    </tr>\n",
                            "    <tr>\n",
                            "      <th>6885157</th>\n",
                            "      <th>Brooklyn</th>\n",
                            "      <td>1346</td>\n",
                            "    </tr>\n",
                            "    <tr>\n",
                            "      <th>219517861</th>\n",
                            "      <th>Manhattan</th>\n",
                            "      <td>1281</td>\n",
                            "    </tr>\n",
                            "    <tr>\n",
                            "      <th>23591164</th>\n",
                            "      <th>Queens</th>\n",
                            "      <td>1269</td>\n",
                            "    </tr>\n",
                            "  </tbody>\n",
                            "</table>\n",
                            "</div>"
                        ],
                        "text/plain": [
                            "                               number_of_reviews\n",
                            "host_id   neighbourhood_group                   \n",
                            "37312959  Queens                            2273\n",
                            "344035    Brooklyn                          2205\n",
                            "26432133  Queens                            2017\n",
                            "35524316  Manhattan                         1971\n",
                            "40176101  Brooklyn                          1818\n",
                            "4734398   Manhattan                         1798\n",
                            "16677326  Manhattan                         1355\n",
                            "6885157   Brooklyn                          1346\n",
                            "219517861 Manhattan                         1281\n",
                            "23591164  Queens                            1269"
                        ]
                    },
                    "execution_count": 111,
                    "metadata": {},
                    "output_type": "execute_result"
                }
            ],
            "source": [
                "#top 10 of host, neighbourhood by reviews\n",
                "df.groupby(['host_id','neighbourhood_group'])[['host_id','number_of_reviews','neighbourhood_group']].agg({'number_of_reviews':sum}).sort_values(by=['number_of_reviews','neighbourhood_group'],ascending=False)[0:10]"
            ]
        },
        {
            "cell_type": "code",
            "execution_count": 112,
            "metadata": {},
            "outputs": [
                {
                    "data": {
                        "text/html": [
                            "<div>\n",
                            "<style scoped>\n",
                            "    .dataframe tbody tr th:only-of-type {\n",
                            "        vertical-align: middle;\n",
                            "    }\n",
                            "\n",
                            "    .dataframe tbody tr th {\n",
                            "        vertical-align: top;\n",
                            "    }\n",
                            "\n",
                            "    .dataframe thead th {\n",
                            "        text-align: right;\n",
                            "    }\n",
                            "</style>\n",
                            "<table border=\"1\" class=\"dataframe\">\n",
                            "  <thead>\n",
                            "    <tr style=\"text-align: right;\">\n",
                            "      <th></th>\n",
                            "      <th>number_of_reviews</th>\n",
                            "      <th>host_id</th>\n",
                            "    </tr>\n",
                            "    <tr>\n",
                            "      <th>neighbourhood_group</th>\n",
                            "      <th></th>\n",
                            "      <th></th>\n",
                            "    </tr>\n",
                            "  </thead>\n",
                            "  <tbody>\n",
                            "    <tr>\n",
                            "      <th>Brooklyn</th>\n",
                            "      <td>486574</td>\n",
                            "      <td>20104</td>\n",
                            "    </tr>\n",
                            "    <tr>\n",
                            "      <th>Manhattan</th>\n",
                            "      <td>454569</td>\n",
                            "      <td>21661</td>\n",
                            "    </tr>\n",
                            "    <tr>\n",
                            "      <th>Queens</th>\n",
                            "      <td>156950</td>\n",
                            "      <td>5666</td>\n",
                            "    </tr>\n",
                            "    <tr>\n",
                            "      <th>Bronx</th>\n",
                            "      <td>28371</td>\n",
                            "      <td>1091</td>\n",
                            "    </tr>\n",
                            "    <tr>\n",
                            "      <th>Staten Island</th>\n",
                            "      <td>11541</td>\n",
                            "      <td>373</td>\n",
                            "    </tr>\n",
                            "  </tbody>\n",
                            "</table>\n",
                            "</div>"
                        ],
                        "text/plain": [
                            "                     number_of_reviews  host_id\n",
                            "neighbourhood_group                            \n",
                            "Brooklyn                        486574    20104\n",
                            "Manhattan                       454569    21661\n",
                            "Queens                          156950     5666\n",
                            "Bronx                            28371     1091\n",
                            "Staten Island                    11541      373"
                        ]
                    },
                    "execution_count": 112,
                    "metadata": {},
                    "output_type": "execute_result"
                }
            ],
            "source": [
                "#Visualize group by neighbourhood amount of reviews and host count\n",
                "df_group_rev_host = df.groupby(['neighbourhood_group'])[['number_of_reviews','neighbourhood_group','host_id']].agg({'number_of_reviews':'sum', 'host_id':'count'}).sort_values(by=['number_of_reviews','neighbourhood_group'],ascending=False)[0:20]\n",
                "df_group_rev_host"
            ]
        },
        {
            "cell_type": "code",
            "execution_count": 113,
            "metadata": {},
            "outputs": [
                {
                    "data": {
                        "image/png": "[encoded data removed]",
                        "text/plain": [
                            "<Figure size 432x288 with 1 Axes>"
                        ]
                    },
                    "metadata": {
                        "needs_background": "light"
                    },
                    "output_type": "display_data"
                }
            ],
            "source": [
                "ax = df_group_rev_host.plot.bar(y=['number_of_reviews','host_id'])\n",
                "plt.show()"
            ]
        },
        {
            "cell_type": "code",
            "execution_count": 114,
            "metadata": {},
            "outputs": [
                {
                    "data": {
                        "text/html": [
                            "<div>\n",
                            "<style scoped>\n",
                            "    .dataframe tbody tr th:only-of-type {\n",
                            "        vertical-align: middle;\n",
                            "    }\n",
                            "\n",
                            "    .dataframe tbody tr th {\n",
                            "        vertical-align: top;\n",
                            "    }\n",
                            "\n",
                            "    .dataframe thead th {\n",
                            "        text-align: right;\n",
                            "    }\n",
                            "</style>\n",
                            "<table border=\"1\" class=\"dataframe\">\n",
                            "  <thead>\n",
                            "    <tr style=\"text-align: right;\">\n",
                            "      <th></th>\n",
                            "      <th>number_of_reviews</th>\n",
                            "      <th>host_id</th>\n",
                            "      <th>price</th>\n",
                            "    </tr>\n",
                            "    <tr>\n",
                            "      <th>neighbourhood_group</th>\n",
                            "      <th></th>\n",
                            "      <th></th>\n",
                            "      <th></th>\n",
                            "    </tr>\n",
                            "  </thead>\n",
                            "  <tbody>\n",
                            "    <tr>\n",
                            "      <th>Brooklyn</th>\n",
                            "      <td>486574</td>\n",
                            "      <td>20104</td>\n",
                            "      <td>124.383207</td>\n",
                            "    </tr>\n",
                            "    <tr>\n",
                            "      <th>Manhattan</th>\n",
                            "      <td>454569</td>\n",
                            "      <td>21661</td>\n",
                            "      <td>196.875814</td>\n",
                            "    </tr>\n",
                            "    <tr>\n",
                            "      <th>Queens</th>\n",
                            "      <td>156950</td>\n",
                            "      <td>5666</td>\n",
                            "      <td>99.517649</td>\n",
                            "    </tr>\n",
                            "    <tr>\n",
                            "      <th>Bronx</th>\n",
                            "      <td>28371</td>\n",
                            "      <td>1091</td>\n",
                            "      <td>87.496792</td>\n",
                            "    </tr>\n",
                            "    <tr>\n",
                            "      <th>Staten Island</th>\n",
                            "      <td>11541</td>\n",
                            "      <td>373</td>\n",
                            "      <td>114.812332</td>\n",
                            "    </tr>\n",
                            "  </tbody>\n",
                            "</table>\n",
                            "</div>"
                        ],
                        "text/plain": [
                            "                     number_of_reviews  host_id       price\n",
                            "neighbourhood_group                                        \n",
                            "Brooklyn                        486574    20104  124.383207\n",
                            "Manhattan                       454569    21661  196.875814\n",
                            "Queens                          156950     5666   99.517649\n",
                            "Bronx                            28371     1091   87.496792\n",
                            "Staten Island                    11541      373  114.812332"
                        ]
                    },
                    "execution_count": 114,
                    "metadata": {},
                    "output_type": "execute_result"
                }
            ],
            "source": [
                "#Visualize group by neighbourhood amount of reviews and host inside\n",
                "df_group_rev_host = df.groupby(['neighbourhood_group'])[['neighbourhood_group','number_of_reviews','host_id','price']].agg({'number_of_reviews':'sum', 'host_id':'count', 'price':'mean'}).sort_values(by=['number_of_reviews','neighbourhood_group'],ascending=False)[0:20]\n",
                "df_group_rev_host"
            ]
        },
        {
            "cell_type": "code",
            "execution_count": 115,
            "metadata": {},
            "outputs": [
                {
                    "name": "stdout",
                    "output_type": "stream",
                    "text": [
                        "                      price  number_of_reviews  minimum_nights  \\\n",
                        "price              1.000000          -0.047954        0.042799   \n",
                        "number_of_reviews -0.047954           1.000000       -0.080116   \n",
                        "minimum_nights     0.042799          -0.080116        1.000000   \n",
                        "reviews_per_month -0.050564           0.589407       -0.124905   \n",
                        "\n",
                        "                   reviews_per_month  \n",
                        "price                      -0.050564  \n",
                        "number_of_reviews           0.589407  \n",
                        "minimum_nights             -0.124905  \n",
                        "reviews_per_month           1.000000  \n"
                    ]
                }
            ],
            "source": [
                "#Search relation of feature\n",
                "matrix = df[['price','number_of_reviews','minimum_nights','reviews_per_month']].corr()\n",
                "print(matrix)"
            ]
        },
        {
            "cell_type": "code",
            "execution_count": 116,
            "metadata": {},
            "outputs": [
                {
                    "data": {
                        "image/png": "[encoded data removed]",
                        "text/plain": [
                            "<Figure size 576x288 with 1 Axes>"
                        ]
                    },
                    "metadata": {
                        "needs_background": "light"
                    },
                    "output_type": "display_data"
                }
            ],
            "source": [
                "#see relation with location and price\n",
                "#Checking correlation between neighbourhood_group and price:\n",
                "plt.figure(figsize = (8, 4))\n",
                "sns.boxplot(y = df['neighbourhood_group'], x = df['price'], orient = 'h', showfliers = False, palette = 'gist_heat')\n",
                "plt.ylabel('Neighbourhood Group') \n",
                "plt.show()"
            ]
        },
        {
            "cell_type": "code",
            "execution_count": 117,
            "metadata": {},
            "outputs": [
                {
                    "data": {
                        "image/png": "[encoded data removed]",
                        "text/plain": [
                            "<Figure size 576x288 with 1 Axes>"
                        ]
                    },
                    "metadata": {
                        "needs_background": "light"
                    },
                    "output_type": "display_data"
                }
            ],
            "source": [
                "#Checking correlation between neighbourhood_group and number_of_reviews:\n",
                "plt.figure(figsize = (8, 4))\n",
                "sns.boxplot(y = df['neighbourhood_group'], x = df['number_of_reviews'], orient = 'h', showfliers = False, palette = 'gist_heat')\n",
                "plt.ylabel('Neighbourhood Group') \n",
                "plt.show()"
            ]
        },
        {
            "cell_type": "code",
            "execution_count": 118,
            "metadata": {},
            "outputs": [
                {
                    "data": {
                        "text/plain": [
                            "Text(0, 0.5, 'Reviews')"
                        ]
                    },
                    "execution_count": 118,
                    "metadata": {},
                    "output_type": "execute_result"
                },
                {
                    "data": {
                        "image/png": "[encoded data removed]",
                        "text/plain": [
                            "<Figure size 432x432 with 1 Axes>"
                        ]
                    },
                    "metadata": {
                        "needs_background": "light"
                    },
                    "output_type": "display_data"
                }
            ],
            "source": [
                "#Let's evaluate our 'Reviews' variable.\n",
                "plt.figure(figsize=(6,6))\n",
                "sns.boxplot(data=df[['number_of_reviews']])\n",
                "plt.title('Looking for outliers in Number of Reviews feature')\n",
                "plt.ylabel('Reviews')"
            ]
        },
        {
            "cell_type": "code",
            "execution_count": 119,
            "metadata": {},
            "outputs": [
                {
                    "data": {
                        "text/plain": [
                            "(10052, 15)"
                        ]
                    },
                    "execution_count": 119,
                    "metadata": {},
                    "output_type": "execute_result"
                }
            ],
            "source": [
                "#row without any review\n",
                "df_without_rev = df[df['number_of_reviews']<=0]\n",
                "df_without_rev.shape\n"
            ]
        },
        {
            "cell_type": "code",
            "execution_count": 120,
            "metadata": {},
            "outputs": [
                {
                    "data": {
                        "text/html": [
                            "<div>\n",
                            "<style scoped>\n",
                            "    .dataframe tbody tr th:only-of-type {\n",
                            "        vertical-align: middle;\n",
                            "    }\n",
                            "\n",
                            "    .dataframe tbody tr th {\n",
                            "        vertical-align: top;\n",
                            "    }\n",
                            "\n",
                            "    .dataframe thead th {\n",
                            "        text-align: right;\n",
                            "    }\n",
                            "</style>\n",
                            "<table border=\"1\" class=\"dataframe\">\n",
                            "  <thead>\n",
                            "    <tr style=\"text-align: right;\">\n",
                            "      <th></th>\n",
                            "      <th>host_id</th>\n",
                            "      <th>price</th>\n",
                            "    </tr>\n",
                            "    <tr>\n",
                            "      <th>neighbourhood_group</th>\n",
                            "      <th></th>\n",
                            "      <th></th>\n",
                            "    </tr>\n",
                            "  </thead>\n",
                            "  <tbody>\n",
                            "    <tr>\n",
                            "      <th>Staten Island</th>\n",
                            "      <td>59</td>\n",
                            "      <td>247.050847</td>\n",
                            "    </tr>\n",
                            "    <tr>\n",
                            "      <th>Queens</th>\n",
                            "      <td>1092</td>\n",
                            "      <td>115.246337</td>\n",
                            "    </tr>\n",
                            "    <tr>\n",
                            "      <th>Manhattan</th>\n",
                            "      <td>5029</td>\n",
                            "      <td>252.514218</td>\n",
                            "    </tr>\n",
                            "    <tr>\n",
                            "      <th>Brooklyn</th>\n",
                            "      <td>3657</td>\n",
                            "      <td>137.580804</td>\n",
                            "    </tr>\n",
                            "    <tr>\n",
                            "      <th>Bronx</th>\n",
                            "      <td>215</td>\n",
                            "      <td>119.860465</td>\n",
                            "    </tr>\n",
                            "  </tbody>\n",
                            "</table>\n",
                            "</div>"
                        ],
                        "text/plain": [
                            "                     host_id       price\n",
                            "neighbourhood_group                     \n",
                            "Staten Island             59  247.050847\n",
                            "Queens                  1092  115.246337\n",
                            "Manhattan               5029  252.514218\n",
                            "Brooklyn                3657  137.580804\n",
                            "Bronx                    215  119.860465"
                        ]
                    },
                    "execution_count": 120,
                    "metadata": {},
                    "output_type": "execute_result"
                }
            ],
            "source": [
                "df_without_rev = df_without_rev.groupby(['neighbourhood_group'])[['neighbourhood_group','host_id','price']].agg({'host_id':'count', 'price':'mean'}).sort_values(by=['neighbourhood_group'],ascending=False)\n",
                "df_without_rev"
            ]
        },
        {
            "cell_type": "code",
            "execution_count": 121,
            "metadata": {},
            "outputs": [],
            "source": [
                "#row with 1 or more reviews\n",
                "df_num_rev = df[df['number_of_reviews']>0]\n",
                "num_rev_stat = df_num_rev[['number_of_reviews']].describe()"
            ]
        },
        {
            "cell_type": "code",
            "execution_count": 122,
            "metadata": {},
            "outputs": [
                {
                    "ename": "KeyError",
                    "evalue": "'75%'",
                    "output_type": "error",
                    "traceback": [
                        "\u001b[0;31m---------------------------------------------------------------------------\u001b[0m",
                        "\u001b[0;31mKeyError\u001b[0m                                  Traceback (most recent call last)",
                        "File \u001b[0;32m~/.pyenv/versions/3.8.13/lib/python3.8/site-packages/pandas/core/indexes/base.py:3621\u001b[0m, in \u001b[0;36mIndex.get_loc\u001b[0;34m(self, key, method, tolerance)\u001b[0m\n\u001b[1;32m   3620\u001b[0m \u001b[39mtry\u001b[39;00m:\n\u001b[0;32m-> 3621\u001b[0m     \u001b[39mreturn\u001b[39;00m \u001b[39mself\u001b[39;49m\u001b[39m.\u001b[39;49m_engine\u001b[39m.\u001b[39;49mget_loc(casted_key)\n\u001b[1;32m   3622\u001b[0m \u001b[39mexcept\u001b[39;00m \u001b[39mKeyError\u001b[39;00m \u001b[39mas\u001b[39;00m err:\n",
                        "File \u001b[0;32m~/.pyenv/versions/3.8.13/lib/python3.8/site-packages/pandas/_libs/index.pyx:136\u001b[0m, in \u001b[0;36mpandas._libs.index.IndexEngine.get_loc\u001b[0;34m()\u001b[0m\n",
                        "File \u001b[0;32m~/.pyenv/versions/3.8.13/lib/python3.8/site-packages/pandas/_libs/index.pyx:163\u001b[0m, in \u001b[0;36mpandas._libs.index.IndexEngine.get_loc\u001b[0;34m()\u001b[0m\n",
                        "File \u001b[0;32mpandas/_libs/hashtable_class_helper.pxi:5198\u001b[0m, in \u001b[0;36mpandas._libs.hashtable.PyObjectHashTable.get_item\u001b[0;34m()\u001b[0m\n",
                        "File \u001b[0;32mpandas/_libs/hashtable_class_helper.pxi:5206\u001b[0m, in \u001b[0;36mpandas._libs.hashtable.PyObjectHashTable.get_item\u001b[0;34m()\u001b[0m\n",
                        "\u001b[0;31mKeyError\u001b[0m: '75%'",
                        "\nThe above exception was the direct cause of the following exception:\n",
                        "\u001b[0;31mKeyError\u001b[0m                                  Traceback (most recent call last)",
                        "\u001b[1;32m/workspace/airbnb-project/src/explore.ipynb Cell 38'\u001b[0m in \u001b[0;36m<cell line: 1>\u001b[0;34m()\u001b[0m\n\u001b[0;32m----> <a href='vscode-notebook-cell://sgsofree-airbnbproject-ejx3s8vc8rv.ws-us47.gitpod.io/workspace/airbnb-project/src/explore.ipynb#ch0000040vscode-remote?line=0'>1</a>\u001b[0m IQR \u001b[39m=\u001b[39m num_rev_stat[\u001b[39m'\u001b[39;49m\u001b[39m75\u001b[39;49m\u001b[39m%\u001b[39;49m\u001b[39m'\u001b[39;49m]\u001b[39m-\u001b[39mnum_rev_stat[\u001b[39m'\u001b[39m\u001b[39m25\u001b[39m\u001b[39m%\u001b[39m\u001b[39m'\u001b[39m]\n\u001b[1;32m      <a href='vscode-notebook-cell://sgsofree-airbnbproject-ejx3s8vc8rv.ws-us47.gitpod.io/workspace/airbnb-project/src/explore.ipynb#ch0000040vscode-remote?line=1'>2</a>\u001b[0m upper \u001b[39m=\u001b[39m num_rev_stat[\u001b[39m'\u001b[39m\u001b[39m75\u001b[39m\u001b[39m%\u001b[39m\u001b[39m'\u001b[39m] \u001b[39m+\u001b[39m \u001b[39m1.5\u001b[39m\u001b[39m*\u001b[39mIQR\n\u001b[1;32m      <a href='vscode-notebook-cell://sgsofree-airbnbproject-ejx3s8vc8rv.ws-us47.gitpod.io/workspace/airbnb-project/src/explore.ipynb#ch0000040vscode-remote?line=2'>3</a>\u001b[0m lower \u001b[39m=\u001b[39m num_rev_stat[\u001b[39m'\u001b[39m\u001b[39m25\u001b[39m\u001b[39m%\u001b[39m\u001b[39m'\u001b[39m] \u001b[39m-\u001b[39m \u001b[39m1.5\u001b[39m\u001b[39m*\u001b[39mIQR\n",
                        "File \u001b[0;32m~/.pyenv/versions/3.8.13/lib/python3.8/site-packages/pandas/core/frame.py:3505\u001b[0m, in \u001b[0;36mDataFrame.__getitem__\u001b[0;34m(self, key)\u001b[0m\n\u001b[1;32m   3503\u001b[0m \u001b[39mif\u001b[39;00m \u001b[39mself\u001b[39m\u001b[39m.\u001b[39mcolumns\u001b[39m.\u001b[39mnlevels \u001b[39m>\u001b[39m \u001b[39m1\u001b[39m:\n\u001b[1;32m   3504\u001b[0m     \u001b[39mreturn\u001b[39;00m \u001b[39mself\u001b[39m\u001b[39m.\u001b[39m_getitem_multilevel(key)\n\u001b[0;32m-> 3505\u001b[0m indexer \u001b[39m=\u001b[39m \u001b[39mself\u001b[39;49m\u001b[39m.\u001b[39;49mcolumns\u001b[39m.\u001b[39;49mget_loc(key)\n\u001b[1;32m   3506\u001b[0m \u001b[39mif\u001b[39;00m is_integer(indexer):\n\u001b[1;32m   3507\u001b[0m     indexer \u001b[39m=\u001b[39m [indexer]\n",
                        "File \u001b[0;32m~/.pyenv/versions/3.8.13/lib/python3.8/site-packages/pandas/core/indexes/base.py:3623\u001b[0m, in \u001b[0;36mIndex.get_loc\u001b[0;34m(self, key, method, tolerance)\u001b[0m\n\u001b[1;32m   3621\u001b[0m     \u001b[39mreturn\u001b[39;00m \u001b[39mself\u001b[39m\u001b[39m.\u001b[39m_engine\u001b[39m.\u001b[39mget_loc(casted_key)\n\u001b[1;32m   3622\u001b[0m \u001b[39mexcept\u001b[39;00m \u001b[39mKeyError\u001b[39;00m \u001b[39mas\u001b[39;00m err:\n\u001b[0;32m-> 3623\u001b[0m     \u001b[39mraise\u001b[39;00m \u001b[39mKeyError\u001b[39;00m(key) \u001b[39mfrom\u001b[39;00m \u001b[39merr\u001b[39;00m\n\u001b[1;32m   3624\u001b[0m \u001b[39mexcept\u001b[39;00m \u001b[39mTypeError\u001b[39;00m:\n\u001b[1;32m   3625\u001b[0m     \u001b[39m# If we have a listlike key, _check_indexing_error will raise\u001b[39;00m\n\u001b[1;32m   3626\u001b[0m     \u001b[39m#  InvalidIndexError. Otherwise we fall through and re-raise\u001b[39;00m\n\u001b[1;32m   3627\u001b[0m     \u001b[39m#  the TypeError.\u001b[39;00m\n\u001b[1;32m   3628\u001b[0m     \u001b[39mself\u001b[39m\u001b[39m.\u001b[39m_check_indexing_error(key)\n",
                        "\u001b[0;31mKeyError\u001b[0m: '75%'"
                    ]
                }
            ],
            "source": [
                "IQR = num_rev_stat['75%']-num_rev_stat['25%']\n",
                "upper = num_rev_stat['75%'] + 1.5*IQR\n",
                "lower = num_rev_stat['25%'] - 1.5*IQR\n",
                "print('The upper & lower bounds for suspected outliers are {} and {}.'.format(upper,lower))"
            ]
        },
        {
            "cell_type": "code",
            "execution_count": null,
            "metadata": {},
            "outputs": [
                {
                    "data": {
                        "text/plain": [
                            "(5, 15)"
                        ]
                    },
                    "execution_count": 60,
                    "metadata": {},
                    "output_type": "execute_result"
                }
            ],
            "source": [
                "num_rev_stat[num_rev_stat['number_of_reviews'] > 550].shape"
            ]
        },
        {
            "cell_type": "markdown",
            "metadata": {},
            "source": [
                "Note:More that 6000 is inside this range, not outlider"
            ]
        },
        {
            "cell_type": "code",
            "execution_count": null,
            "metadata": {},
            "outputs": [
                {
                    "data": {
                        "text/plain": [
                            "(11, 15)"
                        ]
                    },
                    "execution_count": 26,
                    "metadata": {},
                    "output_type": "execute_result"
                }
            ],
            "source": [
                "#host with price 0 \n",
                "df[df['price']<=0].shape"
            ]
        },
        {
            "cell_type": "code",
            "execution_count": null,
            "metadata": {},
            "outputs": [
                {
                    "data": {
                        "text/html": [
                            "<div>\n",
                            "<style scoped>\n",
                            "    .dataframe tbody tr th:only-of-type {\n",
                            "        vertical-align: middle;\n",
                            "    }\n",
                            "\n",
                            "    .dataframe tbody tr th {\n",
                            "        vertical-align: top;\n",
                            "    }\n",
                            "\n",
                            "    .dataframe thead th {\n",
                            "        text-align: right;\n",
                            "    }\n",
                            "</style>\n",
                            "<table border=\"1\" class=\"dataframe\">\n",
                            "  <thead>\n",
                            "    <tr style=\"text-align: right;\">\n",
                            "      <th></th>\n",
                            "      <th>price</th>\n",
                            "    </tr>\n",
                            "  </thead>\n",
                            "  <tbody>\n",
                            "    <tr>\n",
                            "      <th>count</th>\n",
                            "      <td>48895.000000</td>\n",
                            "    </tr>\n",
                            "    <tr>\n",
                            "      <th>mean</th>\n",
                            "      <td>152.720687</td>\n",
                            "    </tr>\n",
                            "    <tr>\n",
                            "      <th>std</th>\n",
                            "      <td>240.154170</td>\n",
                            "    </tr>\n",
                            "    <tr>\n",
                            "      <th>min</th>\n",
                            "      <td>0.000000</td>\n",
                            "    </tr>\n",
                            "    <tr>\n",
                            "      <th>25%</th>\n",
                            "      <td>69.000000</td>\n",
                            "    </tr>\n",
                            "    <tr>\n",
                            "      <th>50%</th>\n",
                            "      <td>106.000000</td>\n",
                            "    </tr>\n",
                            "    <tr>\n",
                            "      <th>75%</th>\n",
                            "      <td>175.000000</td>\n",
                            "    </tr>\n",
                            "    <tr>\n",
                            "      <th>max</th>\n",
                            "      <td>10000.000000</td>\n",
                            "    </tr>\n",
                            "  </tbody>\n",
                            "</table>\n",
                            "</div>"
                        ],
                        "text/plain": [
                            "              price\n",
                            "count  48895.000000\n",
                            "mean     152.720687\n",
                            "std      240.154170\n",
                            "min        0.000000\n",
                            "25%       69.000000\n",
                            "50%      106.000000\n",
                            "75%      175.000000\n",
                            "max    10000.000000"
                        ]
                    },
                    "execution_count": 56,
                    "metadata": {},
                    "output_type": "execute_result"
                }
            ],
            "source": [
                "price_stat = df[['price']].describe()\n",
                "price_stat"
            ]
        },
        {
            "cell_type": "code",
            "execution_count": null,
            "metadata": {},
            "outputs": [
                {
                    "name": "stdout",
                    "output_type": "stream",
                    "text": [
                        "The upper & lower bounds for suspected outliers are 334.0 and -90.0.\n"
                    ]
                }
            ],
            "source": [
                "IQR = price_stat['price']['75%']-price_stat['price']['25%']\n",
                "upper = price_stat['price']['75%'] + 1.5*IQR\n",
                "lower = price_stat['price']['25%'] - 1.5*IQR\n",
                "print('The upper & lower bounds for suspected outliers are {} and {}.'.format(upper,lower))"
            ]
        },
        {
            "cell_type": "code",
            "execution_count": null,
            "metadata": {},
            "outputs": [
                {
                    "data": {
                        "text/plain": [
                            "(2972, 15)"
                        ]
                    },
                    "execution_count": 75,
                    "metadata": {},
                    "output_type": "execute_result"
                }
            ],
            "source": [
                "df_withoucero = df[df['price']>334]\n",
                "df_withoucero.shape"
            ]
        },
        {
            "cell_type": "markdown",
            "metadata": {},
            "source": [
                "Note: \n",
                "- Exists row that have review, and the price is 0.\n",
                "- Not detected outliders\n"
            ]
        },
        {
            "cell_type": "code",
            "execution_count": null,
            "metadata": {},
            "outputs": [
                {
                    "name": "stdout",
                    "output_type": "stream",
                    "text": [
                        "<class 'pandas.core.frame.DataFrame'>\n",
                        "Int64Index: 48895 entries, 2539 to 36487245\n",
                        "Data columns (total 16 columns):\n",
                        " #   Column                          Non-Null Count  Dtype         \n",
                        "---  ------                          --------------  -----         \n",
                        " 0   name                            48895 non-null  object        \n",
                        " 1   host_id                         48895 non-null  int64         \n",
                        " 2   host_name                       48895 non-null  object        \n",
                        " 3   neighbourhood_group             48895 non-null  category      \n",
                        " 4   neighbourhood                   48895 non-null  category      \n",
                        " 5   latitude                        48895 non-null  float64       \n",
                        " 6   longitude                       48895 non-null  float64       \n",
                        " 7   room_type                       48895 non-null  category      \n",
                        " 8   price                           48895 non-null  int64         \n",
                        " 9   minimum_nights                  48895 non-null  int64         \n",
                        " 10  number_of_reviews               48895 non-null  int64         \n",
                        " 11  last_review                     38843 non-null  datetime64[ns]\n",
                        " 12  reviews_per_month               48895 non-null  float64       \n",
                        " 13  calculated_host_listings_count  48895 non-null  int64         \n",
                        " 14  availability_365                48895 non-null  int64         \n",
                        " 15  room_type_code                  48895 non-null  category      \n",
                        "dtypes: category(4), datetime64[ns](1), float64(3), int64(6), object(2)\n",
                        "memory usage: 5.1+ MB\n"
                    ]
                }
            ],
            "source": [
                "# Encoding the 'room_type' column - ['Private room', 'Entire home/apt', 'Shared room']\n",
                "\n",
                "encode_room = {'Private room':1, 'Entire home/apt':2, 'Shared room':3}\n",
                "df['room_type_code'].astype(int)\n",
                "df['room_type_code'] = df['room_type'].map(encode_room)\n",
                "df.info()"
            ]
        },
        {
            "cell_type": "code",
            "execution_count": null,
            "metadata": {},
            "outputs": [
                {
                    "name": "stdout",
                    "output_type": "stream",
                    "text": [
                        "                      price  number_of_reviews  minimum_nights\n",
                        "price              1.000000          -0.047954        0.042799\n",
                        "number_of_reviews -0.047954           1.000000       -0.080116\n",
                        "minimum_nights     0.042799          -0.080116        1.000000\n"
                    ]
                }
            ],
            "source": [
                "matrix = df[['price','number_of_reviews','minimum_nights','room_type_code']].corr()\n",
                "print(matrix)"
            ]
        },
        {
            "cell_type": "code",
            "execution_count": null,
            "metadata": {},
            "outputs": [
                {
                    "data": {
                        "image/png": "[encoded data removed]",
                        "text/plain": [
                            "<Figure size 576x288 with 1 Axes>"
                        ]
                    },
                    "metadata": {
                        "needs_background": "light"
                    },
                    "output_type": "display_data"
                }
            ],
            "source": [
                "#Checking correlation between room_type and number_of_reviews:\n",
                "plt.figure(figsize = (8, 4))\n",
                "sns.boxplot(y = df['room_type'], x = df['number_of_reviews'], orient = 'h', showfliers = False, palette = 'gist_heat')\n",
                "plt.ylabel('Room Type') \n",
                "plt.show()"
            ]
        },
        {
            "cell_type": "code",
            "execution_count": 124,
            "metadata": {},
            "outputs": [
                {
                    "data": {
                        "text/html": [
                            "<div>\n",
                            "<style scoped>\n",
                            "    .dataframe tbody tr th:only-of-type {\n",
                            "        vertical-align: middle;\n",
                            "    }\n",
                            "\n",
                            "    .dataframe tbody tr th {\n",
                            "        vertical-align: top;\n",
                            "    }\n",
                            "\n",
                            "    .dataframe thead th {\n",
                            "        text-align: right;\n",
                            "    }\n",
                            "</style>\n",
                            "<table border=\"1\" class=\"dataframe\">\n",
                            "  <thead>\n",
                            "    <tr style=\"text-align: right;\">\n",
                            "      <th></th>\n",
                            "      <th>name</th>\n",
                            "      <th>host_id</th>\n",
                            "      <th>host_name</th>\n",
                            "      <th>neighbourhood_group</th>\n",
                            "      <th>neighbourhood</th>\n",
                            "      <th>latitude</th>\n",
                            "      <th>longitude</th>\n",
                            "      <th>room_type</th>\n",
                            "      <th>price</th>\n",
                            "      <th>minimum_nights</th>\n",
                            "      <th>number_of_reviews</th>\n",
                            "      <th>last_review</th>\n",
                            "      <th>reviews_per_month</th>\n",
                            "      <th>calculated_host_listings_count</th>\n",
                            "      <th>availability_365</th>\n",
                            "      <th>room_type_code</th>\n",
                            "    </tr>\n",
                            "    <tr>\n",
                            "      <th>id</th>\n",
                            "      <th></th>\n",
                            "      <th></th>\n",
                            "      <th></th>\n",
                            "      <th></th>\n",
                            "      <th></th>\n",
                            "      <th></th>\n",
                            "      <th></th>\n",
                            "      <th></th>\n",
                            "      <th></th>\n",
                            "      <th></th>\n",
                            "      <th></th>\n",
                            "      <th></th>\n",
                            "      <th></th>\n",
                            "      <th></th>\n",
                            "      <th></th>\n",
                            "      <th></th>\n",
                            "    </tr>\n",
                            "  </thead>\n",
                            "  <tbody>\n",
                            "    <tr>\n",
                            "      <th>2539</th>\n",
                            "      <td>Clean &amp; quiet apt home by the park</td>\n",
                            "      <td>2787</td>\n",
                            "      <td>John</td>\n",
                            "      <td>Brooklyn</td>\n",
                            "      <td>Kensington</td>\n",
                            "      <td>40.64749</td>\n",
                            "      <td>-73.97237</td>\n",
                            "      <td>Private room</td>\n",
                            "      <td>149</td>\n",
                            "      <td>1</td>\n",
                            "      <td>9</td>\n",
                            "      <td>2018-10-19</td>\n",
                            "      <td>0.21</td>\n",
                            "      <td>6</td>\n",
                            "      <td>365</td>\n",
                            "      <td>1</td>\n",
                            "    </tr>\n",
                            "    <tr>\n",
                            "      <th>2595</th>\n",
                            "      <td>Skylit Midtown Castle</td>\n",
                            "      <td>2845</td>\n",
                            "      <td>Jennifer</td>\n",
                            "      <td>Manhattan</td>\n",
                            "      <td>Midtown</td>\n",
                            "      <td>40.75362</td>\n",
                            "      <td>-73.98377</td>\n",
                            "      <td>Entire home/apt</td>\n",
                            "      <td>225</td>\n",
                            "      <td>1</td>\n",
                            "      <td>45</td>\n",
                            "      <td>2019-05-21</td>\n",
                            "      <td>0.38</td>\n",
                            "      <td>2</td>\n",
                            "      <td>355</td>\n",
                            "      <td>0</td>\n",
                            "    </tr>\n",
                            "    <tr>\n",
                            "      <th>3647</th>\n",
                            "      <td>THE VILLAGE OF HARLEM....NEW YORK !</td>\n",
                            "      <td>4632</td>\n",
                            "      <td>Elisabeth</td>\n",
                            "      <td>Manhattan</td>\n",
                            "      <td>Harlem</td>\n",
                            "      <td>40.80902</td>\n",
                            "      <td>-73.94190</td>\n",
                            "      <td>Private room</td>\n",
                            "      <td>150</td>\n",
                            "      <td>3</td>\n",
                            "      <td>0</td>\n",
                            "      <td>NaT</td>\n",
                            "      <td>0.00</td>\n",
                            "      <td>1</td>\n",
                            "      <td>365</td>\n",
                            "      <td>1</td>\n",
                            "    </tr>\n",
                            "    <tr>\n",
                            "      <th>3831</th>\n",
                            "      <td>Cozy Entire Floor of Brownstone</td>\n",
                            "      <td>4869</td>\n",
                            "      <td>LisaRoxanne</td>\n",
                            "      <td>Brooklyn</td>\n",
                            "      <td>Clinton Hill</td>\n",
                            "      <td>40.68514</td>\n",
                            "      <td>-73.95976</td>\n",
                            "      <td>Entire home/apt</td>\n",
                            "      <td>89</td>\n",
                            "      <td>1</td>\n",
                            "      <td>270</td>\n",
                            "      <td>2019-07-05</td>\n",
                            "      <td>4.64</td>\n",
                            "      <td>1</td>\n",
                            "      <td>194</td>\n",
                            "      <td>0</td>\n",
                            "    </tr>\n",
                            "    <tr>\n",
                            "      <th>5022</th>\n",
                            "      <td>Entire Apt: Spacious Studio/Loft by central park</td>\n",
                            "      <td>7192</td>\n",
                            "      <td>Laura</td>\n",
                            "      <td>Manhattan</td>\n",
                            "      <td>East Harlem</td>\n",
                            "      <td>40.79851</td>\n",
                            "      <td>-73.94399</td>\n",
                            "      <td>Entire home/apt</td>\n",
                            "      <td>80</td>\n",
                            "      <td>10</td>\n",
                            "      <td>9</td>\n",
                            "      <td>2018-11-19</td>\n",
                            "      <td>0.10</td>\n",
                            "      <td>1</td>\n",
                            "      <td>0</td>\n",
                            "      <td>0</td>\n",
                            "    </tr>\n",
                            "  </tbody>\n",
                            "</table>\n",
                            "</div>"
                        ],
                        "text/plain": [
                            "                                                  name  host_id    host_name  \\\n",
                            "id                                                                             \n",
                            "2539                Clean & quiet apt home by the park     2787         John   \n",
                            "2595                             Skylit Midtown Castle     2845     Jennifer   \n",
                            "3647               THE VILLAGE OF HARLEM....NEW YORK !     4632    Elisabeth   \n",
                            "3831                   Cozy Entire Floor of Brownstone     4869  LisaRoxanne   \n",
                            "5022  Entire Apt: Spacious Studio/Loft by central park     7192        Laura   \n",
                            "\n",
                            "     neighbourhood_group neighbourhood  latitude  longitude        room_type  \\\n",
                            "id                                                                             \n",
                            "2539            Brooklyn    Kensington  40.64749  -73.97237     Private room   \n",
                            "2595           Manhattan       Midtown  40.75362  -73.98377  Entire home/apt   \n",
                            "3647           Manhattan        Harlem  40.80902  -73.94190     Private room   \n",
                            "3831            Brooklyn  Clinton Hill  40.68514  -73.95976  Entire home/apt   \n",
                            "5022           Manhattan   East Harlem  40.79851  -73.94399  Entire home/apt   \n",
                            "\n",
                            "      price  minimum_nights  number_of_reviews last_review  reviews_per_month  \\\n",
                            "id                                                                              \n",
                            "2539    149               1                  9  2018-10-19               0.21   \n",
                            "2595    225               1                 45  2019-05-21               0.38   \n",
                            "3647    150               3                  0         NaT               0.00   \n",
                            "3831     89               1                270  2019-07-05               4.64   \n",
                            "5022     80              10                  9  2018-11-19               0.10   \n",
                            "\n",
                            "      calculated_host_listings_count  availability_365  room_type_code  \n",
                            "id                                                                      \n",
                            "2539                               6               365               1  \n",
                            "2595                               2               355               0  \n",
                            "3647                               1               365               1  \n",
                            "3831                               1               194               0  \n",
                            "5022                               1                 0               0  "
                        ]
                    },
                    "execution_count": 124,
                    "metadata": {},
                    "output_type": "execute_result"
                }
            ],
            "source": [
                "from sklearn.preprocessing import LabelEncoder\n",
                "le = LabelEncoder()\n",
                " \n",
                "# Using .fit_transform function to fit label\n",
                "# encoder and return encoded label\n",
                "df['room_type_code'] = le.fit_transform(df['room_type'])\n",
                " \n",
                "# printing label\n",
                "df.head()\n",
                "\n",
                "\n"
            ]
        },
        {
            "cell_type": "code",
            "execution_count": 125,
            "metadata": {},
            "outputs": [
                {
                    "name": "stdout",
                    "output_type": "stream",
                    "text": [
                        "                      price  number_of_reviews  minimum_nights  room_type_code\n",
                        "price              1.000000          -0.047954        0.042799       -0.249350\n",
                        "number_of_reviews -0.047954           1.000000       -0.080116        0.002724\n",
                        "minimum_nights     0.042799          -0.080116        1.000000       -0.069792\n",
                        "room_type_code    -0.249350           0.002724       -0.069792        1.000000\n"
                    ]
                }
            ],
            "source": [
                "matrix = df[['price','number_of_reviews','minimum_nights','room_type_code']].corr()\n",
                "print(matrix)"
            ]
        },
        {
            "cell_type": "markdown",
            "metadata": {},
            "source": [
                "Note\n",
                "- romm type negative linear relation"
            ]
        },
        {
            "cell_type": "code",
            "execution_count": 126,
            "metadata": {},
            "outputs": [
                {
                    "data": {
                        "image/png": "[encoded data removed]",
                        "text/plain": [
                            "<Figure size 576x288 with 1 Axes>"
                        ]
                    },
                    "metadata": {
                        "needs_background": "light"
                    },
                    "output_type": "display_data"
                }
            ],
            "source": [
                "#Checking correlation between room_type and price:\n",
                "plt.figure(figsize = (8, 4))\n",
                "sns.boxplot(y = df['room_type'], x = df['price'], orient = 'h', showfliers = False, palette = 'gist_heat')\n",
                "plt.ylabel('Room Type') \n",
                "plt.show()"
            ]
        },
        {
            "cell_type": "code",
            "execution_count": 129,
            "metadata": {},
            "outputs": [
                {
                    "data": {
                        "text/html": [
                            "<div>\n",
                            "<style scoped>\n",
                            "    .dataframe tbody tr th:only-of-type {\n",
                            "        vertical-align: middle;\n",
                            "    }\n",
                            "\n",
                            "    .dataframe tbody tr th {\n",
                            "        vertical-align: top;\n",
                            "    }\n",
                            "\n",
                            "    .dataframe thead th {\n",
                            "        text-align: right;\n",
                            "    }\n",
                            "</style>\n",
                            "<table border=\"1\" class=\"dataframe\">\n",
                            "  <thead>\n",
                            "    <tr style=\"text-align: right;\">\n",
                            "      <th></th>\n",
                            "      <th></th>\n",
                            "      <th>host_id</th>\n",
                            "    </tr>\n",
                            "    <tr>\n",
                            "      <th>neighbourhood_group</th>\n",
                            "      <th>room_type</th>\n",
                            "      <th></th>\n",
                            "    </tr>\n",
                            "  </thead>\n",
                            "  <tbody>\n",
                            "    <tr>\n",
                            "      <th rowspan=\"3\" valign=\"top\">Staten Island</th>\n",
                            "      <th>Entire home/apt</th>\n",
                            "      <td>176</td>\n",
                            "    </tr>\n",
                            "    <tr>\n",
                            "      <th>Private room</th>\n",
                            "      <td>188</td>\n",
                            "    </tr>\n",
                            "    <tr>\n",
                            "      <th>Shared room</th>\n",
                            "      <td>9</td>\n",
                            "    </tr>\n",
                            "    <tr>\n",
                            "      <th rowspan=\"3\" valign=\"top\">Queens</th>\n",
                            "      <th>Entire home/apt</th>\n",
                            "      <td>2096</td>\n",
                            "    </tr>\n",
                            "    <tr>\n",
                            "      <th>Private room</th>\n",
                            "      <td>3372</td>\n",
                            "    </tr>\n",
                            "    <tr>\n",
                            "      <th>Shared room</th>\n",
                            "      <td>198</td>\n",
                            "    </tr>\n",
                            "    <tr>\n",
                            "      <th rowspan=\"3\" valign=\"top\">Manhattan</th>\n",
                            "      <th>Entire home/apt</th>\n",
                            "      <td>13199</td>\n",
                            "    </tr>\n",
                            "    <tr>\n",
                            "      <th>Private room</th>\n",
                            "      <td>7982</td>\n",
                            "    </tr>\n",
                            "    <tr>\n",
                            "      <th>Shared room</th>\n",
                            "      <td>480</td>\n",
                            "    </tr>\n",
                            "    <tr>\n",
                            "      <th rowspan=\"3\" valign=\"top\">Brooklyn</th>\n",
                            "      <th>Entire home/apt</th>\n",
                            "      <td>9559</td>\n",
                            "    </tr>\n",
                            "    <tr>\n",
                            "      <th>Private room</th>\n",
                            "      <td>10132</td>\n",
                            "    </tr>\n",
                            "    <tr>\n",
                            "      <th>Shared room</th>\n",
                            "      <td>413</td>\n",
                            "    </tr>\n",
                            "    <tr>\n",
                            "      <th rowspan=\"3\" valign=\"top\">Bronx</th>\n",
                            "      <th>Entire home/apt</th>\n",
                            "      <td>379</td>\n",
                            "    </tr>\n",
                            "    <tr>\n",
                            "      <th>Private room</th>\n",
                            "      <td>652</td>\n",
                            "    </tr>\n",
                            "    <tr>\n",
                            "      <th>Shared room</th>\n",
                            "      <td>60</td>\n",
                            "    </tr>\n",
                            "  </tbody>\n",
                            "</table>\n",
                            "</div>"
                        ],
                        "text/plain": [
                            "                                     host_id\n",
                            "neighbourhood_group room_type               \n",
                            "Staten Island       Entire home/apt      176\n",
                            "                    Private room         188\n",
                            "                    Shared room            9\n",
                            "Queens              Entire home/apt     2096\n",
                            "                    Private room        3372\n",
                            "                    Shared room          198\n",
                            "Manhattan           Entire home/apt    13199\n",
                            "                    Private room        7982\n",
                            "                    Shared room          480\n",
                            "Brooklyn            Entire home/apt     9559\n",
                            "                    Private room       10132\n",
                            "                    Shared room          413\n",
                            "Bronx               Entire home/apt      379\n",
                            "                    Private room         652\n",
                            "                    Shared room           60"
                        ]
                    },
                    "execution_count": 129,
                    "metadata": {},
                    "output_type": "execute_result"
                }
            ],
            "source": [
                "df_type = df.groupby(['neighbourhood_group','room_type'])[['neighbourhood_group','room_type','host_id']].agg({'host_id':'count'}).sort_values(by=['neighbourhood_group'],ascending=False)\n",
                "df_type"
            ]
        }
    ],
    "metadata": {
        "kernelspec": {
            "display_name": "Python 3.8.13 64-bit ('3.8.13')",
            "language": "python",
            "name": "python3"
        },
        "language_info": {
            "codemirror_mode": {
                "name": "ipython",
                "version": 3
            },
            "file_extension": ".py",
            "mimetype": "text/x-python",
            "name": "python",
            "nbconvert_exporter": "python",
            "pygments_lexer": "ipython3",
            "version": "3.8.13"
        },
        "orig_nbformat": 4,
        "vscode": {
            "interpreter": {
                "hash": "110cc1dee26208153f2972f08a2ad52b6a56238dc66d48e87fb757ef2996db56"
            }
        }
    },
    "nbformat": 4,
    "nbformat_minor": 2
}
