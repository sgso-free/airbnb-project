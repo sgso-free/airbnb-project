{
    "cells": [
        {
            "cell_type": "markdown",
            "metadata": {},
            "source": [
                "# Import Library"
            ]
        },
        {
            "cell_type": "code",
            "execution_count": 1,
            "metadata": {},
            "outputs": [],
            "source": [
                "import pandas as pd\n",
                "import numpy as np\n",
                "import matplotlib.pyplot as plt\n",
                "import seaborn as sns\n",
                "%matplotlib inline"
            ]
        },
        {
            "cell_type": "markdown",
            "metadata": {},
            "source": [
                "# Import Data and Explore"
            ]
        },
        {
            "cell_type": "code",
            "execution_count": 2,
            "metadata": {},
            "outputs": [],
            "source": [
                "#importing the CSV here\n",
                "\n",
                "df = pd.read_csv('../data/raw/AB_NYC_2019.csv',index_col=0)\n"
            ]
        },
        {
            "cell_type": "code",
            "execution_count": 3,
            "metadata": {},
            "outputs": [
                {
                    "name": "stdout",
                    "output_type": "stream",
                    "text": [
                        "<class 'pandas.core.frame.DataFrame'>\n",
                        "Int64Index: 48895 entries, 2539 to 36487245\n",
                        "Data columns (total 15 columns):\n",
                        " #   Column                          Non-Null Count  Dtype  \n",
                        "---  ------                          --------------  -----  \n",
                        " 0   name                            48879 non-null  object \n",
                        " 1   host_id                         48895 non-null  int64  \n",
                        " 2   host_name                       48874 non-null  object \n",
                        " 3   neighbourhood_group             48895 non-null  object \n",
                        " 4   neighbourhood                   48895 non-null  object \n",
                        " 5   latitude                        48895 non-null  float64\n",
                        " 6   longitude                       48895 non-null  float64\n",
                        " 7   room_type                       48895 non-null  object \n",
                        " 8   price                           48895 non-null  int64  \n",
                        " 9   minimum_nights                  48895 non-null  int64  \n",
                        " 10  number_of_reviews               48895 non-null  int64  \n",
                        " 11  last_review                     38843 non-null  object \n",
                        " 12  reviews_per_month               38843 non-null  float64\n",
                        " 13  calculated_host_listings_count  48895 non-null  int64  \n",
                        " 14  availability_365                48895 non-null  int64  \n",
                        "dtypes: float64(3), int64(6), object(6)\n",
                        "memory usage: 6.0+ MB\n"
                    ]
                }
            ],
            "source": [
                "df.info()"
            ]
        },
        {
            "cell_type": "markdown",
            "metadata": {},
            "source": [
                "Observations:\n",
                "\n",
                "We can see that our data has 48895  rows and 14 columns.\n",
                "\n",
                "Our data has 9 numerical features, 5 categorical features and 1 datatime\n",
                "\n",
                "Feature last_review and reviews_per_month has 10.050 null values from a total of 48895 rows,"
            ]
        },
        {
            "cell_type": "markdown",
            "metadata": {},
            "source": [
                "# Explore Data"
            ]
        },
        {
            "cell_type": "code",
            "execution_count": 4,
            "metadata": {},
            "outputs": [
                {
                    "data": {
                        "text/html": [
                            "<div>\n",
                            "<style scoped>\n",
                            "    .dataframe tbody tr th:only-of-type {\n",
                            "        vertical-align: middle;\n",
                            "    }\n",
                            "\n",
                            "    .dataframe tbody tr th {\n",
                            "        vertical-align: top;\n",
                            "    }\n",
                            "\n",
                            "    .dataframe thead th {\n",
                            "        text-align: right;\n",
                            "    }\n",
                            "</style>\n",
                            "<table border=\"1\" class=\"dataframe\">\n",
                            "  <thead>\n",
                            "    <tr style=\"text-align: right;\">\n",
                            "      <th></th>\n",
                            "      <th>name</th>\n",
                            "      <th>host_id</th>\n",
                            "      <th>host_name</th>\n",
                            "      <th>neighbourhood_group</th>\n",
                            "      <th>neighbourhood</th>\n",
                            "      <th>latitude</th>\n",
                            "      <th>longitude</th>\n",
                            "      <th>room_type</th>\n",
                            "      <th>price</th>\n",
                            "      <th>minimum_nights</th>\n",
                            "      <th>number_of_reviews</th>\n",
                            "      <th>last_review</th>\n",
                            "      <th>reviews_per_month</th>\n",
                            "      <th>calculated_host_listings_count</th>\n",
                            "      <th>availability_365</th>\n",
                            "    </tr>\n",
                            "    <tr>\n",
                            "      <th>id</th>\n",
                            "      <th></th>\n",
                            "      <th></th>\n",
                            "      <th></th>\n",
                            "      <th></th>\n",
                            "      <th></th>\n",
                            "      <th></th>\n",
                            "      <th></th>\n",
                            "      <th></th>\n",
                            "      <th></th>\n",
                            "      <th></th>\n",
                            "      <th></th>\n",
                            "      <th></th>\n",
                            "      <th></th>\n",
                            "      <th></th>\n",
                            "      <th></th>\n",
                            "    </tr>\n",
                            "  </thead>\n",
                            "  <tbody>\n",
                            "    <tr>\n",
                            "      <th>16860045</th>\n",
                            "      <td>2 bed spacious/Quiet Upper Ditmars Astoria Wifi.</td>\n",
                            "      <td>97127885</td>\n",
                            "      <td>Concetta</td>\n",
                            "      <td>Queens</td>\n",
                            "      <td>Ditmars Steinway</td>\n",
                            "      <td>40.76814</td>\n",
                            "      <td>-73.89573</td>\n",
                            "      <td>Entire home/apt</td>\n",
                            "      <td>47</td>\n",
                            "      <td>11</td>\n",
                            "      <td>27</td>\n",
                            "      <td>2019-04-27</td>\n",
                            "      <td>0.90</td>\n",
                            "      <td>2</td>\n",
                            "      <td>212</td>\n",
                            "    </tr>\n",
                            "    <tr>\n",
                            "      <th>165461</th>\n",
                            "      <td>Couldn't Be Closer To Columbia Uni2</td>\n",
                            "      <td>867225</td>\n",
                            "      <td>Rahul</td>\n",
                            "      <td>Manhattan</td>\n",
                            "      <td>Morningside Heights</td>\n",
                            "      <td>40.80525</td>\n",
                            "      <td>-73.95916</td>\n",
                            "      <td>Private room</td>\n",
                            "      <td>75</td>\n",
                            "      <td>5</td>\n",
                            "      <td>57</td>\n",
                            "      <td>2019-01-01</td>\n",
                            "      <td>0.59</td>\n",
                            "      <td>2</td>\n",
                            "      <td>201</td>\n",
                            "    </tr>\n",
                            "    <tr>\n",
                            "      <th>30046332</th>\n",
                            "      <td>Private Room in Heart of Downtown NYC</td>\n",
                            "      <td>11718279</td>\n",
                            "      <td>Annette</td>\n",
                            "      <td>Manhattan</td>\n",
                            "      <td>Financial District</td>\n",
                            "      <td>40.70815</td>\n",
                            "      <td>-74.00513</td>\n",
                            "      <td>Private room</td>\n",
                            "      <td>115</td>\n",
                            "      <td>2</td>\n",
                            "      <td>4</td>\n",
                            "      <td>2019-01-01</td>\n",
                            "      <td>0.55</td>\n",
                            "      <td>1</td>\n",
                            "      <td>177</td>\n",
                            "    </tr>\n",
                            "    <tr>\n",
                            "      <th>11341650</th>\n",
                            "      <td>Room off Jefferson L, Bushwick</td>\n",
                            "      <td>978580</td>\n",
                            "      <td>Marta</td>\n",
                            "      <td>Brooklyn</td>\n",
                            "      <td>Bushwick</td>\n",
                            "      <td>40.70515</td>\n",
                            "      <td>-73.92500</td>\n",
                            "      <td>Private room</td>\n",
                            "      <td>75</td>\n",
                            "      <td>1</td>\n",
                            "      <td>0</td>\n",
                            "      <td>NaN</td>\n",
                            "      <td>NaN</td>\n",
                            "      <td>1</td>\n",
                            "      <td>0</td>\n",
                            "    </tr>\n",
                            "    <tr>\n",
                            "      <th>28182350</th>\n",
                            "      <td>Queens Beauty Close to Manhattan</td>\n",
                            "      <td>212857568</td>\n",
                            "      <td>Howard</td>\n",
                            "      <td>Queens</td>\n",
                            "      <td>Ozone Park</td>\n",
                            "      <td>40.67616</td>\n",
                            "      <td>-73.86016</td>\n",
                            "      <td>Entire home/apt</td>\n",
                            "      <td>90</td>\n",
                            "      <td>4</td>\n",
                            "      <td>12</td>\n",
                            "      <td>2019-06-19</td>\n",
                            "      <td>1.38</td>\n",
                            "      <td>1</td>\n",
                            "      <td>193</td>\n",
                            "    </tr>\n",
                            "    <tr>\n",
                            "      <th>19830726</th>\n",
                            "      <td>Cozy Room in Beautiful Harlem Apartment, NYC!</td>\n",
                            "      <td>140146581</td>\n",
                            "      <td>Natalie And Vince</td>\n",
                            "      <td>Manhattan</td>\n",
                            "      <td>Harlem</td>\n",
                            "      <td>40.82169</td>\n",
                            "      <td>-73.94077</td>\n",
                            "      <td>Private room</td>\n",
                            "      <td>69</td>\n",
                            "      <td>1</td>\n",
                            "      <td>14</td>\n",
                            "      <td>2018-09-13</td>\n",
                            "      <td>0.72</td>\n",
                            "      <td>1</td>\n",
                            "      <td>0</td>\n",
                            "    </tr>\n",
                            "    <tr>\n",
                            "      <th>385824</th>\n",
                            "      <td>New York City- Riverdale Modern two bedrooms unit</td>\n",
                            "      <td>1931205</td>\n",
                            "      <td>Orit</td>\n",
                            "      <td>Bronx</td>\n",
                            "      <td>Spuyten Duyvil</td>\n",
                            "      <td>40.87991</td>\n",
                            "      <td>-73.91673</td>\n",
                            "      <td>Entire home/apt</td>\n",
                            "      <td>120</td>\n",
                            "      <td>2</td>\n",
                            "      <td>47</td>\n",
                            "      <td>2019-07-03</td>\n",
                            "      <td>1.22</td>\n",
                            "      <td>1</td>\n",
                            "      <td>318</td>\n",
                            "    </tr>\n",
                            "    <tr>\n",
                            "      <th>27735701</th>\n",
                            "      <td>Beautiful cozy apt in Manhattan</td>\n",
                            "      <td>209386156</td>\n",
                            "      <td>Abraham</td>\n",
                            "      <td>Manhattan</td>\n",
                            "      <td>East Harlem</td>\n",
                            "      <td>40.80033</td>\n",
                            "      <td>-73.94100</td>\n",
                            "      <td>Shared room</td>\n",
                            "      <td>60</td>\n",
                            "      <td>2</td>\n",
                            "      <td>28</td>\n",
                            "      <td>2019-06-10</td>\n",
                            "      <td>2.58</td>\n",
                            "      <td>9</td>\n",
                            "      <td>120</td>\n",
                            "    </tr>\n",
                            "    <tr>\n",
                            "      <th>28608920</th>\n",
                            "      <td>Chic modern studio</td>\n",
                            "      <td>141300</td>\n",
                            "      <td>Mel</td>\n",
                            "      <td>Manhattan</td>\n",
                            "      <td>Upper West Side</td>\n",
                            "      <td>40.78581</td>\n",
                            "      <td>-73.97179</td>\n",
                            "      <td>Entire home/apt</td>\n",
                            "      <td>165</td>\n",
                            "      <td>1</td>\n",
                            "      <td>8</td>\n",
                            "      <td>2019-05-06</td>\n",
                            "      <td>0.88</td>\n",
                            "      <td>1</td>\n",
                            "      <td>87</td>\n",
                            "    </tr>\n",
                            "    <tr>\n",
                            "      <th>28346402</th>\n",
                            "      <td>Room at walking distance to the Empire State!</td>\n",
                            "      <td>214037223</td>\n",
                            "      <td>Monze</td>\n",
                            "      <td>Manhattan</td>\n",
                            "      <td>Kips Bay</td>\n",
                            "      <td>40.74381</td>\n",
                            "      <td>-73.97909</td>\n",
                            "      <td>Private room</td>\n",
                            "      <td>130</td>\n",
                            "      <td>2</td>\n",
                            "      <td>45</td>\n",
                            "      <td>2019-06-24</td>\n",
                            "      <td>4.87</td>\n",
                            "      <td>3</td>\n",
                            "      <td>277</td>\n",
                            "    </tr>\n",
                            "  </tbody>\n",
                            "</table>\n",
                            "</div>"
                        ],
                        "text/plain": [
                            "                                                       name    host_id  \\\n",
                            "id                                                                       \n",
                            "16860045   2 bed spacious/Quiet Upper Ditmars Astoria Wifi.   97127885   \n",
                            "165461                  Couldn't Be Closer To Columbia Uni2     867225   \n",
                            "30046332              Private Room in Heart of Downtown NYC   11718279   \n",
                            "11341650                     Room off Jefferson L, Bushwick     978580   \n",
                            "28182350                   Queens Beauty Close to Manhattan  212857568   \n",
                            "19830726      Cozy Room in Beautiful Harlem Apartment, NYC!  140146581   \n",
                            "385824    New York City- Riverdale Modern two bedrooms unit    1931205   \n",
                            "27735701                    Beautiful cozy apt in Manhattan  209386156   \n",
                            "28608920                                 Chic modern studio     141300   \n",
                            "28346402      Room at walking distance to the Empire State!  214037223   \n",
                            "\n",
                            "                  host_name neighbourhood_group        neighbourhood  \\\n",
                            "id                                                                     \n",
                            "16860045           Concetta              Queens     Ditmars Steinway   \n",
                            "165461                Rahul           Manhattan  Morningside Heights   \n",
                            "30046332            Annette           Manhattan   Financial District   \n",
                            "11341650              Marta            Brooklyn             Bushwick   \n",
                            "28182350             Howard              Queens           Ozone Park   \n",
                            "19830726  Natalie And Vince           Manhattan               Harlem   \n",
                            "385824                 Orit               Bronx       Spuyten Duyvil   \n",
                            "27735701            Abraham           Manhattan          East Harlem   \n",
                            "28608920                Mel           Manhattan      Upper West Side   \n",
                            "28346402              Monze           Manhattan             Kips Bay   \n",
                            "\n",
                            "          latitude  longitude        room_type  price  minimum_nights  \\\n",
                            "id                                                                      \n",
                            "16860045  40.76814  -73.89573  Entire home/apt     47              11   \n",
                            "165461    40.80525  -73.95916     Private room     75               5   \n",
                            "30046332  40.70815  -74.00513     Private room    115               2   \n",
                            "11341650  40.70515  -73.92500     Private room     75               1   \n",
                            "28182350  40.67616  -73.86016  Entire home/apt     90               4   \n",
                            "19830726  40.82169  -73.94077     Private room     69               1   \n",
                            "385824    40.87991  -73.91673  Entire home/apt    120               2   \n",
                            "27735701  40.80033  -73.94100      Shared room     60               2   \n",
                            "28608920  40.78581  -73.97179  Entire home/apt    165               1   \n",
                            "28346402  40.74381  -73.97909     Private room    130               2   \n",
                            "\n",
                            "          number_of_reviews last_review  reviews_per_month  \\\n",
                            "id                                                           \n",
                            "16860045                 27  2019-04-27               0.90   \n",
                            "165461                   57  2019-01-01               0.59   \n",
                            "30046332                  4  2019-01-01               0.55   \n",
                            "11341650                  0         NaN                NaN   \n",
                            "28182350                 12  2019-06-19               1.38   \n",
                            "19830726                 14  2018-09-13               0.72   \n",
                            "385824                   47  2019-07-03               1.22   \n",
                            "27735701                 28  2019-06-10               2.58   \n",
                            "28608920                  8  2019-05-06               0.88   \n",
                            "28346402                 45  2019-06-24               4.87   \n",
                            "\n",
                            "          calculated_host_listings_count  availability_365  \n",
                            "id                                                          \n",
                            "16860045                               2               212  \n",
                            "165461                                 2               201  \n",
                            "30046332                               1               177  \n",
                            "11341650                               1                 0  \n",
                            "28182350                               1               193  \n",
                            "19830726                               1                 0  \n",
                            "385824                                 1               318  \n",
                            "27735701                               9               120  \n",
                            "28608920                               1                87  \n",
                            "28346402                               3               277  "
                        ]
                    },
                    "execution_count": 4,
                    "metadata": {},
                    "output_type": "execute_result"
                }
            ],
            "source": [
                "df.sample(10)"
            ]
        },
        {
            "cell_type": "code",
            "execution_count": 5,
            "metadata": {},
            "outputs": [
                {
                    "data": {
                        "image/png": "[encoded data removed]",
                        "text/plain": [
                            "<Figure size 648x504 with 9 Axes>"
                        ]
                    },
                    "metadata": {
                        "needs_background": "light"
                    },
                    "output_type": "display_data"
                }
            ],
            "source": [
                "df.hist(bins=10,figsize=(9,7),grid=False);\n",
                "plt.show()"
            ]
        },
        {
            "cell_type": "markdown",
            "metadata": {},
            "source": [
                "# Set Datatype"
            ]
        },
        {
            "cell_type": "code",
            "execution_count": 6,
            "metadata": {},
            "outputs": [
                {
                    "data": {
                        "text/plain": [
                            "name                                      object\n",
                            "host_id                                    int64\n",
                            "host_name                                 object\n",
                            "neighbourhood_group                     category\n",
                            "neighbourhood                           category\n",
                            "latitude                                 float64\n",
                            "longitude                                float64\n",
                            "room_type                               category\n",
                            "price                                      int64\n",
                            "minimum_nights                             int64\n",
                            "number_of_reviews                          int64\n",
                            "last_review                       datetime64[ns]\n",
                            "reviews_per_month                        float64\n",
                            "calculated_host_listings_count             int64\n",
                            "availability_365                           int64\n",
                            "dtype: object"
                        ]
                    },
                    "execution_count": 6,
                    "metadata": {},
                    "output_type": "execute_result"
                }
            ],
            "source": [
                "#set categorical data and datatime\n",
                "df=df.astype({'name':'str','host_name':'str','neighbourhood_group':'category','neighbourhood':'category','room_type':'category'})\n",
                "df['last_review'] = pd.to_datetime(df['last_review'], format=\"%Y/%m/%d\")\n",
                "df.dtypes\n"
            ]
        },
        {
            "cell_type": "code",
            "execution_count": 7,
            "metadata": {},
            "outputs": [
                {
                    "data": {
                        "text/html": [
                            "<div>\n",
                            "<style scoped>\n",
                            "    .dataframe tbody tr th:only-of-type {\n",
                            "        vertical-align: middle;\n",
                            "    }\n",
                            "\n",
                            "    .dataframe tbody tr th {\n",
                            "        vertical-align: top;\n",
                            "    }\n",
                            "\n",
                            "    .dataframe thead th {\n",
                            "        text-align: right;\n",
                            "    }\n",
                            "</style>\n",
                            "<table border=\"1\" class=\"dataframe\">\n",
                            "  <thead>\n",
                            "    <tr style=\"text-align: right;\">\n",
                            "      <th></th>\n",
                            "      <th>neighbourhood_group</th>\n",
                            "      <th>neighbourhood</th>\n",
                            "      <th>room_type</th>\n",
                            "      <th>last_review</th>\n",
                            "    </tr>\n",
                            "  </thead>\n",
                            "  <tbody>\n",
                            "    <tr>\n",
                            "      <th>count</th>\n",
                            "      <td>48895</td>\n",
                            "      <td>48895</td>\n",
                            "      <td>48895</td>\n",
                            "      <td>38843</td>\n",
                            "    </tr>\n",
                            "    <tr>\n",
                            "      <th>unique</th>\n",
                            "      <td>5</td>\n",
                            "      <td>221</td>\n",
                            "      <td>3</td>\n",
                            "      <td>NaN</td>\n",
                            "    </tr>\n",
                            "    <tr>\n",
                            "      <th>top</th>\n",
                            "      <td>Manhattan</td>\n",
                            "      <td>Williamsburg</td>\n",
                            "      <td>Entire home/apt</td>\n",
                            "      <td>NaN</td>\n",
                            "    </tr>\n",
                            "    <tr>\n",
                            "      <th>freq</th>\n",
                            "      <td>21661</td>\n",
                            "      <td>3920</td>\n",
                            "      <td>25409</td>\n",
                            "      <td>NaN</td>\n",
                            "    </tr>\n",
                            "    <tr>\n",
                            "      <th>mean</th>\n",
                            "      <td>NaN</td>\n",
                            "      <td>NaN</td>\n",
                            "      <td>NaN</td>\n",
                            "      <td>2018-10-04 01:47:23.910099456</td>\n",
                            "    </tr>\n",
                            "    <tr>\n",
                            "      <th>min</th>\n",
                            "      <td>NaN</td>\n",
                            "      <td>NaN</td>\n",
                            "      <td>NaN</td>\n",
                            "      <td>2011-03-28 00:00:00</td>\n",
                            "    </tr>\n",
                            "    <tr>\n",
                            "      <th>25%</th>\n",
                            "      <td>NaN</td>\n",
                            "      <td>NaN</td>\n",
                            "      <td>NaN</td>\n",
                            "      <td>2018-07-08 00:00:00</td>\n",
                            "    </tr>\n",
                            "    <tr>\n",
                            "      <th>50%</th>\n",
                            "      <td>NaN</td>\n",
                            "      <td>NaN</td>\n",
                            "      <td>NaN</td>\n",
                            "      <td>2019-05-19 00:00:00</td>\n",
                            "    </tr>\n",
                            "    <tr>\n",
                            "      <th>75%</th>\n",
                            "      <td>NaN</td>\n",
                            "      <td>NaN</td>\n",
                            "      <td>NaN</td>\n",
                            "      <td>2019-06-23 00:00:00</td>\n",
                            "    </tr>\n",
                            "    <tr>\n",
                            "      <th>max</th>\n",
                            "      <td>NaN</td>\n",
                            "      <td>NaN</td>\n",
                            "      <td>NaN</td>\n",
                            "      <td>2019-07-08 00:00:00</td>\n",
                            "    </tr>\n",
                            "  </tbody>\n",
                            "</table>\n",
                            "</div>"
                        ],
                        "text/plain": [
                            "       neighbourhood_group neighbourhood        room_type  \\\n",
                            "count                48895         48895            48895   \n",
                            "unique                   5           221                3   \n",
                            "top              Manhattan  Williamsburg  Entire home/apt   \n",
                            "freq                 21661          3920            25409   \n",
                            "mean                   NaN           NaN              NaN   \n",
                            "min                    NaN           NaN              NaN   \n",
                            "25%                    NaN           NaN              NaN   \n",
                            "50%                    NaN           NaN              NaN   \n",
                            "75%                    NaN           NaN              NaN   \n",
                            "max                    NaN           NaN              NaN   \n",
                            "\n",
                            "                          last_review  \n",
                            "count                           38843  \n",
                            "unique                            NaN  \n",
                            "top                               NaN  \n",
                            "freq                              NaN  \n",
                            "mean    2018-10-04 01:47:23.910099456  \n",
                            "min               2011-03-28 00:00:00  \n",
                            "25%               2018-07-08 00:00:00  \n",
                            "50%               2019-05-19 00:00:00  \n",
                            "75%               2019-06-23 00:00:00  \n",
                            "max               2019-07-08 00:00:00  "
                        ]
                    },
                    "execution_count": 7,
                    "metadata": {},
                    "output_type": "execute_result"
                }
            ],
            "source": [
                "round(df.describe(include=['category','datetime64'],datetime_is_numeric=True))"
            ]
        },
        {
            "cell_type": "code",
            "execution_count": 8,
            "metadata": {},
            "outputs": [
                {
                    "data": {
                        "text/plain": [
                            "['Private room', 'Entire home/apt', 'Shared room']"
                        ]
                    },
                    "execution_count": 8,
                    "metadata": {},
                    "output_type": "execute_result"
                }
            ],
            "source": [
                "#in this case 3 room_type\n",
                "room_type=list(df['room_type'].unique())\n",
                "room_type"
            ]
        },
        {
            "cell_type": "code",
            "execution_count": 9,
            "metadata": {},
            "outputs": [
                {
                    "data": {
                        "text/plain": [
                            "['Brooklyn', 'Manhattan', 'Queens', 'Staten Island', 'Bronx']"
                        ]
                    },
                    "execution_count": 9,
                    "metadata": {},
                    "output_type": "execute_result"
                }
            ],
            "source": [
                "#in this case 5 neighbourhood_group\n",
                "neighbourhood_group=list(df['neighbourhood_group'].unique())\n",
                "neighbourhood_group"
            ]
        },
        {
            "cell_type": "code",
            "execution_count": 10,
            "metadata": {},
            "outputs": [
                {
                    "data": {
                        "text/html": [
                            "<div>\n",
                            "<style scoped>\n",
                            "    .dataframe tbody tr th:only-of-type {\n",
                            "        vertical-align: middle;\n",
                            "    }\n",
                            "\n",
                            "    .dataframe tbody tr th {\n",
                            "        vertical-align: top;\n",
                            "    }\n",
                            "\n",
                            "    .dataframe thead th {\n",
                            "        text-align: right;\n",
                            "    }\n",
                            "</style>\n",
                            "<table border=\"1\" class=\"dataframe\">\n",
                            "  <thead>\n",
                            "    <tr style=\"text-align: right;\">\n",
                            "      <th></th>\n",
                            "      <th>host_id</th>\n",
                            "      <th>price</th>\n",
                            "      <th>minimum_nights</th>\n",
                            "      <th>number_of_reviews</th>\n",
                            "      <th>calculated_host_listings_count</th>\n",
                            "      <th>availability_365</th>\n",
                            "    </tr>\n",
                            "  </thead>\n",
                            "  <tbody>\n",
                            "    <tr>\n",
                            "      <th>count</th>\n",
                            "      <td>48895.0</td>\n",
                            "      <td>48895.0</td>\n",
                            "      <td>48895.0</td>\n",
                            "      <td>48895.0</td>\n",
                            "      <td>48895.0</td>\n",
                            "      <td>48895.0</td>\n",
                            "    </tr>\n",
                            "    <tr>\n",
                            "      <th>mean</th>\n",
                            "      <td>67620011.0</td>\n",
                            "      <td>153.0</td>\n",
                            "      <td>7.0</td>\n",
                            "      <td>23.0</td>\n",
                            "      <td>7.0</td>\n",
                            "      <td>113.0</td>\n",
                            "    </tr>\n",
                            "    <tr>\n",
                            "      <th>std</th>\n",
                            "      <td>78610967.0</td>\n",
                            "      <td>240.0</td>\n",
                            "      <td>21.0</td>\n",
                            "      <td>45.0</td>\n",
                            "      <td>33.0</td>\n",
                            "      <td>132.0</td>\n",
                            "    </tr>\n",
                            "    <tr>\n",
                            "      <th>min</th>\n",
                            "      <td>2438.0</td>\n",
                            "      <td>0.0</td>\n",
                            "      <td>1.0</td>\n",
                            "      <td>0.0</td>\n",
                            "      <td>1.0</td>\n",
                            "      <td>0.0</td>\n",
                            "    </tr>\n",
                            "    <tr>\n",
                            "      <th>25%</th>\n",
                            "      <td>7822033.0</td>\n",
                            "      <td>69.0</td>\n",
                            "      <td>1.0</td>\n",
                            "      <td>1.0</td>\n",
                            "      <td>1.0</td>\n",
                            "      <td>0.0</td>\n",
                            "    </tr>\n",
                            "    <tr>\n",
                            "      <th>50%</th>\n",
                            "      <td>30793816.0</td>\n",
                            "      <td>106.0</td>\n",
                            "      <td>3.0</td>\n",
                            "      <td>5.0</td>\n",
                            "      <td>1.0</td>\n",
                            "      <td>45.0</td>\n",
                            "    </tr>\n",
                            "    <tr>\n",
                            "      <th>75%</th>\n",
                            "      <td>107434423.0</td>\n",
                            "      <td>175.0</td>\n",
                            "      <td>5.0</td>\n",
                            "      <td>24.0</td>\n",
                            "      <td>2.0</td>\n",
                            "      <td>227.0</td>\n",
                            "    </tr>\n",
                            "    <tr>\n",
                            "      <th>max</th>\n",
                            "      <td>274321313.0</td>\n",
                            "      <td>10000.0</td>\n",
                            "      <td>1250.0</td>\n",
                            "      <td>629.0</td>\n",
                            "      <td>327.0</td>\n",
                            "      <td>365.0</td>\n",
                            "    </tr>\n",
                            "  </tbody>\n",
                            "</table>\n",
                            "</div>"
                        ],
                        "text/plain": [
                            "           host_id    price  minimum_nights  number_of_reviews  \\\n",
                            "count      48895.0  48895.0         48895.0            48895.0   \n",
                            "mean    67620011.0    153.0             7.0               23.0   \n",
                            "std     78610967.0    240.0            21.0               45.0   \n",
                            "min         2438.0      0.0             1.0                0.0   \n",
                            "25%      7822033.0     69.0             1.0                1.0   \n",
                            "50%     30793816.0    106.0             3.0                5.0   \n",
                            "75%    107434423.0    175.0             5.0               24.0   \n",
                            "max    274321313.0  10000.0          1250.0              629.0   \n",
                            "\n",
                            "       calculated_host_listings_count  availability_365  \n",
                            "count                         48895.0           48895.0  \n",
                            "mean                              7.0             113.0  \n",
                            "std                              33.0             132.0  \n",
                            "min                               1.0               0.0  \n",
                            "25%                               1.0               0.0  \n",
                            "50%                               1.0              45.0  \n",
                            "75%                               2.0             227.0  \n",
                            "max                             327.0             365.0  "
                        ]
                    },
                    "execution_count": 10,
                    "metadata": {},
                    "output_type": "execute_result"
                }
            ],
            "source": [
                "round(df.describe(include=['int64']))"
            ]
        },
        {
            "cell_type": "markdown",
            "metadata": {},
            "source": [
                "Strange value minimum_nights 1250"
            ]
        },
        {
            "cell_type": "code",
            "execution_count": 11,
            "metadata": {},
            "outputs": [
                {
                    "data": {
                        "text/plain": [
                            "array([   1,    3,   10,   45,    2,    5,    4,   90,    7,   14,   60,\n",
                            "         29,   30,  180,    9,   31,    6,   15,    8,   26,   28,  200,\n",
                            "         50,   17,   21,   11,   25,   13,   35,   27,   18,   20,   40,\n",
                            "         44,   65,   55,  120,  365,  122,   19,  240,   88,  115,  150,\n",
                            "        370,   16,   80,  181,  265,  300,   59,  185,  360,   56,   12,\n",
                            "         70,   39,   24,   32, 1000,  110,  270,   22,   75,  250,   62,\n",
                            "         23, 1250,  364,   74,  198,  100,  500,   43,   91,  480,   53,\n",
                            "         99,  160,   47,  999,  186,  366,   68,   93,   87,  183,  299,\n",
                            "        175,   98,  133,  354,   42,   33,   37,  225,  400,  105,  184,\n",
                            "        153,  134,  222,   58,  210,  275,  182,  114,   85,   36])"
                        ]
                    },
                    "execution_count": 11,
                    "metadata": {},
                    "output_type": "execute_result"
                }
            ],
            "source": [
                "df['minimum_nights'].unique()"
            ]
        },
        {
            "cell_type": "markdown",
            "metadata": {},
            "source": [
                "Note: Strange values > 360 as minimun night"
            ]
        },
        {
            "cell_type": "markdown",
            "metadata": {},
            "source": [
                "## Studie None values"
            ]
        },
        {
            "cell_type": "code",
            "execution_count": 12,
            "metadata": {},
            "outputs": [
                {
                    "data": {
                        "text/plain": [
                            "(10052, 15)"
                        ]
                    },
                    "execution_count": 12,
                    "metadata": {},
                    "output_type": "execute_result"
                }
            ],
            "source": [
                "# last_review and reviews_per_month\n",
                "df_null = df[df['last_review'].isnull() | df['reviews_per_month'].isnull()]\n",
                "df_null.shape\n"
            ]
        },
        {
            "cell_type": "markdown",
            "metadata": {},
            "source": [
                "Note: the tuple have both feature null if have null"
            ]
        },
        {
            "cell_type": "code",
            "execution_count": 13,
            "metadata": {},
            "outputs": [
                {
                    "data": {
                        "text/plain": [
                            "(10052, 15)"
                        ]
                    },
                    "execution_count": 13,
                    "metadata": {},
                    "output_type": "execute_result"
                }
            ],
            "source": [
                "df_0 = df[df['number_of_reviews']==0 & df['last_review'].isnull()]\n",
                "df_0.shape"
            ]
        },
        {
            "cell_type": "code",
            "execution_count": 14,
            "metadata": {},
            "outputs": [],
            "source": [
                "#change review_per_month to 0\n",
                "df['reviews_per_month'].fillna(0,inplace=True)"
            ]
        },
        {
            "cell_type": "code",
            "execution_count": 15,
            "metadata": {},
            "outputs": [
                {
                    "data": {
                        "text/plain": [
                            "(0, 15)"
                        ]
                    },
                    "execution_count": 15,
                    "metadata": {},
                    "output_type": "execute_result"
                }
            ],
            "source": [
                "df[df['reviews_per_month'].isnull()].shape"
            ]
        },
        {
            "cell_type": "markdown",
            "metadata": {},
            "source": [
                "The last_review not change, becasue is a datatiem. And if have not review, is right to be null "
            ]
        },
        {
            "cell_type": "markdown",
            "metadata": {},
            "source": [
                "# STEP 2\n",
                "## What can we learn about different hosts and areas?\n"
            ]
        },
        {
            "cell_type": "code",
            "execution_count": 16,
            "metadata": {},
            "outputs": [
                {
                    "data": {
                        "text/html": [
                            "<div>\n",
                            "<style scoped>\n",
                            "    .dataframe tbody tr th:only-of-type {\n",
                            "        vertical-align: middle;\n",
                            "    }\n",
                            "\n",
                            "    .dataframe tbody tr th {\n",
                            "        vertical-align: top;\n",
                            "    }\n",
                            "\n",
                            "    .dataframe thead th {\n",
                            "        text-align: right;\n",
                            "    }\n",
                            "</style>\n",
                            "<table border=\"1\" class=\"dataframe\">\n",
                            "  <thead>\n",
                            "    <tr style=\"text-align: right;\">\n",
                            "      <th></th>\n",
                            "      <th>number_of_reviews</th>\n",
                            "    </tr>\n",
                            "    <tr>\n",
                            "      <th>host_id</th>\n",
                            "      <th></th>\n",
                            "    </tr>\n",
                            "  </thead>\n",
                            "  <tbody>\n",
                            "    <tr>\n",
                            "      <th>37312959</th>\n",
                            "      <td>2273</td>\n",
                            "    </tr>\n",
                            "    <tr>\n",
                            "      <th>344035</th>\n",
                            "      <td>2205</td>\n",
                            "    </tr>\n",
                            "    <tr>\n",
                            "      <th>26432133</th>\n",
                            "      <td>2017</td>\n",
                            "    </tr>\n",
                            "    <tr>\n",
                            "      <th>35524316</th>\n",
                            "      <td>1971</td>\n",
                            "    </tr>\n",
                            "    <tr>\n",
                            "      <th>40176101</th>\n",
                            "      <td>1818</td>\n",
                            "    </tr>\n",
                            "    <tr>\n",
                            "      <th>4734398</th>\n",
                            "      <td>1798</td>\n",
                            "    </tr>\n",
                            "    <tr>\n",
                            "      <th>16677326</th>\n",
                            "      <td>1355</td>\n",
                            "    </tr>\n",
                            "    <tr>\n",
                            "      <th>6885157</th>\n",
                            "      <td>1346</td>\n",
                            "    </tr>\n",
                            "    <tr>\n",
                            "      <th>219517861</th>\n",
                            "      <td>1281</td>\n",
                            "    </tr>\n",
                            "    <tr>\n",
                            "      <th>23591164</th>\n",
                            "      <td>1269</td>\n",
                            "    </tr>\n",
                            "  </tbody>\n",
                            "</table>\n",
                            "</div>"
                        ],
                        "text/plain": [
                            "           number_of_reviews\n",
                            "host_id                     \n",
                            "37312959                2273\n",
                            "344035                  2205\n",
                            "26432133                2017\n",
                            "35524316                1971\n",
                            "40176101                1818\n",
                            "4734398                 1798\n",
                            "16677326                1355\n",
                            "6885157                 1346\n",
                            "219517861               1281\n",
                            "23591164                1269"
                        ]
                    },
                    "execution_count": 16,
                    "metadata": {},
                    "output_type": "execute_result"
                }
            ],
            "source": [
                "#top 10 of hosting by number_of_reviews\n",
                "#df.groupby(['host_id'])['number_of_reviews','id'].agg({'id':pd.Series.nunique,'number_of_reviews':'sum'}).sort_values(by=['number_of_reviews','id'],ascending=False)[0:10]\n",
                "df.groupby(['host_id'])[['host_id','number_of_reviews']].agg({'number_of_reviews':sum}).sort_values(by=['number_of_reviews','host_id'],ascending=False)[0:10]\n"
            ]
        },
        {
            "cell_type": "code",
            "execution_count": 17,
            "metadata": {},
            "outputs": [
                {
                    "data": {
                        "text/html": [
                            "<div>\n",
                            "<style scoped>\n",
                            "    .dataframe tbody tr th:only-of-type {\n",
                            "        vertical-align: middle;\n",
                            "    }\n",
                            "\n",
                            "    .dataframe tbody tr th {\n",
                            "        vertical-align: top;\n",
                            "    }\n",
                            "\n",
                            "    .dataframe thead th {\n",
                            "        text-align: right;\n",
                            "    }\n",
                            "</style>\n",
                            "<table border=\"1\" class=\"dataframe\">\n",
                            "  <thead>\n",
                            "    <tr style=\"text-align: right;\">\n",
                            "      <th></th>\n",
                            "      <th></th>\n",
                            "      <th>number_of_reviews</th>\n",
                            "    </tr>\n",
                            "    <tr>\n",
                            "      <th>host_id</th>\n",
                            "      <th>neighbourhood_group</th>\n",
                            "      <th></th>\n",
                            "    </tr>\n",
                            "  </thead>\n",
                            "  <tbody>\n",
                            "    <tr>\n",
                            "      <th>37312959</th>\n",
                            "      <th>Queens</th>\n",
                            "      <td>2273</td>\n",
                            "    </tr>\n",
                            "    <tr>\n",
                            "      <th>344035</th>\n",
                            "      <th>Brooklyn</th>\n",
                            "      <td>2205</td>\n",
                            "    </tr>\n",
                            "    <tr>\n",
                            "      <th>26432133</th>\n",
                            "      <th>Queens</th>\n",
                            "      <td>2017</td>\n",
                            "    </tr>\n",
                            "    <tr>\n",
                            "      <th>35524316</th>\n",
                            "      <th>Manhattan</th>\n",
                            "      <td>1971</td>\n",
                            "    </tr>\n",
                            "    <tr>\n",
                            "      <th>40176101</th>\n",
                            "      <th>Brooklyn</th>\n",
                            "      <td>1818</td>\n",
                            "    </tr>\n",
                            "    <tr>\n",
                            "      <th>4734398</th>\n",
                            "      <th>Manhattan</th>\n",
                            "      <td>1798</td>\n",
                            "    </tr>\n",
                            "    <tr>\n",
                            "      <th>16677326</th>\n",
                            "      <th>Manhattan</th>\n",
                            "      <td>1355</td>\n",
                            "    </tr>\n",
                            "    <tr>\n",
                            "      <th>6885157</th>\n",
                            "      <th>Brooklyn</th>\n",
                            "      <td>1346</td>\n",
                            "    </tr>\n",
                            "    <tr>\n",
                            "      <th>219517861</th>\n",
                            "      <th>Manhattan</th>\n",
                            "      <td>1281</td>\n",
                            "    </tr>\n",
                            "    <tr>\n",
                            "      <th>23591164</th>\n",
                            "      <th>Queens</th>\n",
                            "      <td>1269</td>\n",
                            "    </tr>\n",
                            "  </tbody>\n",
                            "</table>\n",
                            "</div>"
                        ],
                        "text/plain": [
                            "                               number_of_reviews\n",
                            "host_id   neighbourhood_group                   \n",
                            "37312959  Queens                            2273\n",
                            "344035    Brooklyn                          2205\n",
                            "26432133  Queens                            2017\n",
                            "35524316  Manhattan                         1971\n",
                            "40176101  Brooklyn                          1818\n",
                            "4734398   Manhattan                         1798\n",
                            "16677326  Manhattan                         1355\n",
                            "6885157   Brooklyn                          1346\n",
                            "219517861 Manhattan                         1281\n",
                            "23591164  Queens                            1269"
                        ]
                    },
                    "execution_count": 17,
                    "metadata": {},
                    "output_type": "execute_result"
                }
            ],
            "source": [
                "#top 10 of host, neighbourhood by reviews\n",
                "df.groupby(['host_id','neighbourhood_group'])[['host_id','number_of_reviews','neighbourhood_group']].agg({'number_of_reviews':sum}).sort_values(by=['number_of_reviews','neighbourhood_group'],ascending=False)[0:10]"
            ]
        },
        {
            "cell_type": "code",
            "execution_count": 18,
            "metadata": {},
            "outputs": [
                {
                    "data": {
                        "text/html": [
                            "<div>\n",
                            "<style scoped>\n",
                            "    .dataframe tbody tr th:only-of-type {\n",
                            "        vertical-align: middle;\n",
                            "    }\n",
                            "\n",
                            "    .dataframe tbody tr th {\n",
                            "        vertical-align: top;\n",
                            "    }\n",
                            "\n",
                            "    .dataframe thead th {\n",
                            "        text-align: right;\n",
                            "    }\n",
                            "</style>\n",
                            "<table border=\"1\" class=\"dataframe\">\n",
                            "  <thead>\n",
                            "    <tr style=\"text-align: right;\">\n",
                            "      <th></th>\n",
                            "      <th>number_of_reviews</th>\n",
                            "      <th>host_id</th>\n",
                            "    </tr>\n",
                            "    <tr>\n",
                            "      <th>neighbourhood_group</th>\n",
                            "      <th></th>\n",
                            "      <th></th>\n",
                            "    </tr>\n",
                            "  </thead>\n",
                            "  <tbody>\n",
                            "    <tr>\n",
                            "      <th>Brooklyn</th>\n",
                            "      <td>486574</td>\n",
                            "      <td>20104</td>\n",
                            "    </tr>\n",
                            "    <tr>\n",
                            "      <th>Manhattan</th>\n",
                            "      <td>454569</td>\n",
                            "      <td>21661</td>\n",
                            "    </tr>\n",
                            "    <tr>\n",
                            "      <th>Queens</th>\n",
                            "      <td>156950</td>\n",
                            "      <td>5666</td>\n",
                            "    </tr>\n",
                            "    <tr>\n",
                            "      <th>Bronx</th>\n",
                            "      <td>28371</td>\n",
                            "      <td>1091</td>\n",
                            "    </tr>\n",
                            "    <tr>\n",
                            "      <th>Staten Island</th>\n",
                            "      <td>11541</td>\n",
                            "      <td>373</td>\n",
                            "    </tr>\n",
                            "  </tbody>\n",
                            "</table>\n",
                            "</div>"
                        ],
                        "text/plain": [
                            "                     number_of_reviews  host_id\n",
                            "neighbourhood_group                            \n",
                            "Brooklyn                        486574    20104\n",
                            "Manhattan                       454569    21661\n",
                            "Queens                          156950     5666\n",
                            "Bronx                            28371     1091\n",
                            "Staten Island                    11541      373"
                        ]
                    },
                    "execution_count": 18,
                    "metadata": {},
                    "output_type": "execute_result"
                }
            ],
            "source": [
                "#Visualize group by neighbourhood amount of reviews and host count\n",
                "df_group_rev_host = df.groupby(['neighbourhood_group'])[['number_of_reviews','neighbourhood_group','host_id']].agg({'number_of_reviews':'sum', 'host_id':'count'}).sort_values(by=['number_of_reviews','neighbourhood_group'],ascending=False)[0:20]\n",
                "df_group_rev_host"
            ]
        },
        {
            "cell_type": "code",
            "execution_count": 19,
            "metadata": {},
            "outputs": [
                {
                    "data": {
                        "image/png": "[encoded data removed]",
                        "text/plain": [
                            "<Figure size 432x288 with 1 Axes>"
                        ]
                    },
                    "metadata": {
                        "needs_background": "light"
                    },
                    "output_type": "display_data"
                }
            ],
            "source": [
                "ax = df_group_rev_host.plot.bar(y=['number_of_reviews','host_id'])\n",
                "plt.show()"
            ]
        },
        {
            "cell_type": "code",
            "execution_count": 20,
            "metadata": {},
            "outputs": [
                {
                    "data": {
                        "text/html": [
                            "<div>\n",
                            "<style scoped>\n",
                            "    .dataframe tbody tr th:only-of-type {\n",
                            "        vertical-align: middle;\n",
                            "    }\n",
                            "\n",
                            "    .dataframe tbody tr th {\n",
                            "        vertical-align: top;\n",
                            "    }\n",
                            "\n",
                            "    .dataframe thead th {\n",
                            "        text-align: right;\n",
                            "    }\n",
                            "</style>\n",
                            "<table border=\"1\" class=\"dataframe\">\n",
                            "  <thead>\n",
                            "    <tr style=\"text-align: right;\">\n",
                            "      <th></th>\n",
                            "      <th>number_of_reviews</th>\n",
                            "      <th>host_id</th>\n",
                            "      <th>price</th>\n",
                            "    </tr>\n",
                            "    <tr>\n",
                            "      <th>neighbourhood_group</th>\n",
                            "      <th></th>\n",
                            "      <th></th>\n",
                            "      <th></th>\n",
                            "    </tr>\n",
                            "  </thead>\n",
                            "  <tbody>\n",
                            "    <tr>\n",
                            "      <th>Brooklyn</th>\n",
                            "      <td>486574</td>\n",
                            "      <td>20104</td>\n",
                            "      <td>124.383207</td>\n",
                            "    </tr>\n",
                            "    <tr>\n",
                            "      <th>Manhattan</th>\n",
                            "      <td>454569</td>\n",
                            "      <td>21661</td>\n",
                            "      <td>196.875814</td>\n",
                            "    </tr>\n",
                            "    <tr>\n",
                            "      <th>Queens</th>\n",
                            "      <td>156950</td>\n",
                            "      <td>5666</td>\n",
                            "      <td>99.517649</td>\n",
                            "    </tr>\n",
                            "    <tr>\n",
                            "      <th>Bronx</th>\n",
                            "      <td>28371</td>\n",
                            "      <td>1091</td>\n",
                            "      <td>87.496792</td>\n",
                            "    </tr>\n",
                            "    <tr>\n",
                            "      <th>Staten Island</th>\n",
                            "      <td>11541</td>\n",
                            "      <td>373</td>\n",
                            "      <td>114.812332</td>\n",
                            "    </tr>\n",
                            "  </tbody>\n",
                            "</table>\n",
                            "</div>"
                        ],
                        "text/plain": [
                            "                     number_of_reviews  host_id       price\n",
                            "neighbourhood_group                                        \n",
                            "Brooklyn                        486574    20104  124.383207\n",
                            "Manhattan                       454569    21661  196.875814\n",
                            "Queens                          156950     5666   99.517649\n",
                            "Bronx                            28371     1091   87.496792\n",
                            "Staten Island                    11541      373  114.812332"
                        ]
                    },
                    "execution_count": 20,
                    "metadata": {},
                    "output_type": "execute_result"
                }
            ],
            "source": [
                "#Visualize group by neighbourhood amount of reviews and host inside\n",
                "df_group_rev_host = df.groupby(['neighbourhood_group'])[['neighbourhood_group','number_of_reviews','host_id','price']].agg({'number_of_reviews':'sum', 'host_id':'count', 'price':'mean'}).sort_values(by=['number_of_reviews','neighbourhood_group'],ascending=False)[0:20]\n",
                "df_group_rev_host"
            ]
        },
        {
            "cell_type": "code",
            "execution_count": 21,
            "metadata": {},
            "outputs": [
                {
                    "name": "stdout",
                    "output_type": "stream",
                    "text": [
                        "                      price  number_of_reviews  minimum_nights  \\\n",
                        "price              1.000000          -0.047954        0.042799   \n",
                        "number_of_reviews -0.047954           1.000000       -0.080116   \n",
                        "minimum_nights     0.042799          -0.080116        1.000000   \n",
                        "reviews_per_month -0.050564           0.589407       -0.124905   \n",
                        "\n",
                        "                   reviews_per_month  \n",
                        "price                      -0.050564  \n",
                        "number_of_reviews           0.589407  \n",
                        "minimum_nights             -0.124905  \n",
                        "reviews_per_month           1.000000  \n"
                    ]
                }
            ],
            "source": [
                "#Search relation of feature\n",
                "matrix = df[['price','number_of_reviews','minimum_nights','reviews_per_month']].corr()\n",
                "print(matrix)"
            ]
        },
        {
            "cell_type": "code",
            "execution_count": 22,
            "metadata": {},
            "outputs": [
                {
                    "data": {
                        "image/png": "[encoded data removed]",
                        "text/plain": [
                            "<Figure size 576x288 with 1 Axes>"
                        ]
                    },
                    "metadata": {
                        "needs_background": "light"
                    },
                    "output_type": "display_data"
                }
            ],
            "source": [
                "#see relation with location and price\n",
                "#Checking correlation between neighbourhood_group and price:\n",
                "plt.figure(figsize = (8, 4))\n",
                "sns.boxplot(y = df['neighbourhood_group'], x = df['price'], orient = 'h', showfliers = False, palette = 'gist_heat')\n",
                "plt.ylabel('Neighbourhood Group') \n",
                "plt.show()"
            ]
        },
        {
            "cell_type": "code",
            "execution_count": 23,
            "metadata": {},
            "outputs": [
                {
                    "data": {
                        "image/png": "[encoded data removed]",
                        "text/plain": [
                            "<Figure size 576x288 with 1 Axes>"
                        ]
                    },
                    "metadata": {
                        "needs_background": "light"
                    },
                    "output_type": "display_data"
                }
            ],
            "source": [
                "#Checking correlation between neighbourhood_group and number_of_reviews:\n",
                "plt.figure(figsize = (8, 4))\n",
                "sns.boxplot(y = df['neighbourhood_group'], x = df['number_of_reviews'], orient = 'h', showfliers = False, palette = 'gist_heat')\n",
                "plt.ylabel('Neighbourhood Group') \n",
                "plt.show()"
            ]
        },
        {
            "cell_type": "code",
            "execution_count": 24,
            "metadata": {},
            "outputs": [
                {
                    "data": {
                        "text/plain": [
                            "Text(0, 0.5, 'Reviews')"
                        ]
                    },
                    "execution_count": 24,
                    "metadata": {},
                    "output_type": "execute_result"
                },
                {
                    "data": {
                        "image/png": "[encoded data removed]",
                        "text/plain": [
                            "<Figure size 432x432 with 1 Axes>"
                        ]
                    },
                    "metadata": {
                        "needs_background": "light"
                    },
                    "output_type": "display_data"
                }
            ],
            "source": [
                "#Let's evaluate our 'Reviews' variable.\n",
                "plt.figure(figsize=(6,6))\n",
                "sns.boxplot(data=df[['number_of_reviews']])\n",
                "plt.title('Looking for outliers in Number of Reviews feature')\n",
                "plt.ylabel('Reviews')"
            ]
        },
        {
            "cell_type": "code",
            "execution_count": 25,
            "metadata": {},
            "outputs": [
                {
                    "data": {
                        "text/plain": [
                            "(10052, 15)"
                        ]
                    },
                    "execution_count": 25,
                    "metadata": {},
                    "output_type": "execute_result"
                }
            ],
            "source": [
                "#row without any review\n",
                "df_without_rev = df[df['number_of_reviews']<=0]\n",
                "df_without_rev.shape\n"
            ]
        },
        {
            "cell_type": "code",
            "execution_count": 26,
            "metadata": {},
            "outputs": [
                {
                    "data": {
                        "text/html": [
                            "<div>\n",
                            "<style scoped>\n",
                            "    .dataframe tbody tr th:only-of-type {\n",
                            "        vertical-align: middle;\n",
                            "    }\n",
                            "\n",
                            "    .dataframe tbody tr th {\n",
                            "        vertical-align: top;\n",
                            "    }\n",
                            "\n",
                            "    .dataframe thead th {\n",
                            "        text-align: right;\n",
                            "    }\n",
                            "</style>\n",
                            "<table border=\"1\" class=\"dataframe\">\n",
                            "  <thead>\n",
                            "    <tr style=\"text-align: right;\">\n",
                            "      <th></th>\n",
                            "      <th>host_id</th>\n",
                            "      <th>price</th>\n",
                            "    </tr>\n",
                            "    <tr>\n",
                            "      <th>neighbourhood_group</th>\n",
                            "      <th></th>\n",
                            "      <th></th>\n",
                            "    </tr>\n",
                            "  </thead>\n",
                            "  <tbody>\n",
                            "    <tr>\n",
                            "      <th>Staten Island</th>\n",
                            "      <td>59</td>\n",
                            "      <td>247.050847</td>\n",
                            "    </tr>\n",
                            "    <tr>\n",
                            "      <th>Queens</th>\n",
                            "      <td>1092</td>\n",
                            "      <td>115.246337</td>\n",
                            "    </tr>\n",
                            "    <tr>\n",
                            "      <th>Manhattan</th>\n",
                            "      <td>5029</td>\n",
                            "      <td>252.514218</td>\n",
                            "    </tr>\n",
                            "    <tr>\n",
                            "      <th>Brooklyn</th>\n",
                            "      <td>3657</td>\n",
                            "      <td>137.580804</td>\n",
                            "    </tr>\n",
                            "    <tr>\n",
                            "      <th>Bronx</th>\n",
                            "      <td>215</td>\n",
                            "      <td>119.860465</td>\n",
                            "    </tr>\n",
                            "  </tbody>\n",
                            "</table>\n",
                            "</div>"
                        ],
                        "text/plain": [
                            "                     host_id       price\n",
                            "neighbourhood_group                     \n",
                            "Staten Island             59  247.050847\n",
                            "Queens                  1092  115.246337\n",
                            "Manhattan               5029  252.514218\n",
                            "Brooklyn                3657  137.580804\n",
                            "Bronx                    215  119.860465"
                        ]
                    },
                    "execution_count": 26,
                    "metadata": {},
                    "output_type": "execute_result"
                }
            ],
            "source": [
                "df_without_rev = df_without_rev.groupby(['neighbourhood_group'])[['neighbourhood_group','host_id','price']].agg({'host_id':'count', 'price':'mean'}).sort_values(by=['neighbourhood_group'],ascending=False)\n",
                "df_without_rev"
            ]
        },
        {
            "cell_type": "markdown",
            "metadata": {},
            "source": [
                "Nota:\n",
                "- Hay 10052 proiedades sin reviews\n",
                "- la mitad son the manhattan"
            ]
        },
        {
            "cell_type": "code",
            "execution_count": 27,
            "metadata": {},
            "outputs": [],
            "source": [
                "#row with 1 or more reviews\n",
                "df_num_rev = df[df['number_of_reviews']>0]\n",
                "\n",
                "def outlier_treatment(datacolumn):\n",
                "    sorted(datacolumn)\n",
                "    Q1,Q3 = np.percentile(datacolumn , [25,75])\n",
                "    IQR = Q3 - Q1\n",
                "    lower_range = Q1 - (1.5 * IQR)\n",
                "    upper_range = Q3 + (1.5 * IQR)\n",
                "    return lower_range,upper_range\n"
            ]
        },
        {
            "cell_type": "code",
            "execution_count": 28,
            "metadata": {},
            "outputs": [
                {
                    "name": "stdout",
                    "output_type": "stream",
                    "text": [
                        "The upper & lower bounds for suspected outliers are 78.0 and -42.0.\n"
                    ]
                }
            ],
            "source": [
                "lowerbound,upperbound = outlier_treatment(df_num_rev['number_of_reviews'])\n",
                "print('The upper & lower bounds for suspected outliers are {} and {}.'.format(upperbound,lowerbound))"
            ]
        },
        {
            "cell_type": "code",
            "execution_count": 29,
            "metadata": {},
            "outputs": [
                {
                    "data": {
                        "text/plain": [
                            "(4237, 15)"
                        ]
                    },
                    "execution_count": 29,
                    "metadata": {},
                    "output_type": "execute_result"
                }
            ],
            "source": [
                "df_num_rev[df_num_rev['number_of_reviews'] > 78].shape"
            ]
        },
        {
            "cell_type": "markdown",
            "metadata": {},
            "source": [
                "Note:\n",
                "- More that 4000 is inside this range, not outlider"
            ]
        },
        {
            "cell_type": "code",
            "execution_count": 30,
            "metadata": {},
            "outputs": [
                {
                    "data": {
                        "text/plain": [
                            "(11, 15)"
                        ]
                    },
                    "execution_count": 30,
                    "metadata": {},
                    "output_type": "execute_result"
                }
            ],
            "source": [
                "#host with price 0 \n",
                "df[df['price']<=0].shape"
            ]
        },
        {
            "cell_type": "code",
            "execution_count": 31,
            "metadata": {},
            "outputs": [
                {
                    "data": {
                        "text/html": [
                            "<div>\n",
                            "<style scoped>\n",
                            "    .dataframe tbody tr th:only-of-type {\n",
                            "        vertical-align: middle;\n",
                            "    }\n",
                            "\n",
                            "    .dataframe tbody tr th {\n",
                            "        vertical-align: top;\n",
                            "    }\n",
                            "\n",
                            "    .dataframe thead th {\n",
                            "        text-align: right;\n",
                            "    }\n",
                            "</style>\n",
                            "<table border=\"1\" class=\"dataframe\">\n",
                            "  <thead>\n",
                            "    <tr style=\"text-align: right;\">\n",
                            "      <th></th>\n",
                            "      <th>price</th>\n",
                            "    </tr>\n",
                            "  </thead>\n",
                            "  <tbody>\n",
                            "    <tr>\n",
                            "      <th>count</th>\n",
                            "      <td>48895.000000</td>\n",
                            "    </tr>\n",
                            "    <tr>\n",
                            "      <th>mean</th>\n",
                            "      <td>152.720687</td>\n",
                            "    </tr>\n",
                            "    <tr>\n",
                            "      <th>std</th>\n",
                            "      <td>240.154170</td>\n",
                            "    </tr>\n",
                            "    <tr>\n",
                            "      <th>min</th>\n",
                            "      <td>0.000000</td>\n",
                            "    </tr>\n",
                            "    <tr>\n",
                            "      <th>25%</th>\n",
                            "      <td>69.000000</td>\n",
                            "    </tr>\n",
                            "    <tr>\n",
                            "      <th>50%</th>\n",
                            "      <td>106.000000</td>\n",
                            "    </tr>\n",
                            "    <tr>\n",
                            "      <th>75%</th>\n",
                            "      <td>175.000000</td>\n",
                            "    </tr>\n",
                            "    <tr>\n",
                            "      <th>max</th>\n",
                            "      <td>10000.000000</td>\n",
                            "    </tr>\n",
                            "  </tbody>\n",
                            "</table>\n",
                            "</div>"
                        ],
                        "text/plain": [
                            "              price\n",
                            "count  48895.000000\n",
                            "mean     152.720687\n",
                            "std      240.154170\n",
                            "min        0.000000\n",
                            "25%       69.000000\n",
                            "50%      106.000000\n",
                            "75%      175.000000\n",
                            "max    10000.000000"
                        ]
                    },
                    "execution_count": 31,
                    "metadata": {},
                    "output_type": "execute_result"
                }
            ],
            "source": [
                "price_stat = df[['price']].describe()\n",
                "price_stat"
            ]
        },
        {
            "cell_type": "code",
            "execution_count": 32,
            "metadata": {},
            "outputs": [
                {
                    "name": "stdout",
                    "output_type": "stream",
                    "text": [
                        "The upper & lower bounds for suspected outliers are 334.0 and -90.0.\n"
                    ]
                }
            ],
            "source": [
                "IQR = price_stat['price']['75%']-price_stat['price']['25%']\n",
                "upper = price_stat['price']['75%'] + 1.5*IQR\n",
                "lower = price_stat['price']['25%'] - 1.5*IQR\n",
                "print('The upper & lower bounds for suspected outliers are {} and {}.'.format(upper,lower))"
            ]
        },
        {
            "cell_type": "code",
            "execution_count": 33,
            "metadata": {},
            "outputs": [
                {
                    "data": {
                        "text/plain": [
                            "(2972, 15)"
                        ]
                    },
                    "execution_count": 33,
                    "metadata": {},
                    "output_type": "execute_result"
                }
            ],
            "source": [
                "df_withoucero = df[df['price']>334]\n",
                "df_withoucero.shape"
            ]
        },
        {
            "cell_type": "markdown",
            "metadata": {},
            "source": [
                "Note: \n",
                "- Exists row that have review, and the price is 0.\n",
                "- Not detected outliders\n"
            ]
        },
        {
            "cell_type": "code",
            "execution_count": null,
            "metadata": {},
            "outputs": [],
            "source": []
        },
        {
            "cell_type": "markdown",
            "metadata": {},
            "source": [
                "### Encodig category values "
            ]
        },
        {
            "cell_type": "code",
            "execution_count": 46,
            "metadata": {},
            "outputs": [],
            "source": [
                "# Encoding the 'room_type' column - ['Private room', 'Entire home/apt', 'Shared room']\n",
                "\n",
                "encode_room = {'Private room':1, 'Entire home/apt':2, 'Shared room':3}\n",
                "df['room_type_code'] = df['room_type'].map(encode_room)\n",
                "\n",
                "['Brooklyn', 'Manhattan', 'Queens', 'Staten Island', 'Bronx']\n",
                "\n",
                "encode_neight = {'Brooklyn':1, 'Manhattan':2, 'Queens':3, 'Staten Island':4, 'Bronx':5}\n",
                "df['neighbourhood_group_code'] = df['neighbourhood_group'].map(encode_neight)\n",
                "\n"
            ]
        },
        {
            "cell_type": "code",
            "execution_count": 40,
            "metadata": {},
            "outputs": [
                {
                    "data": {
                        "image/png": "[encoded data removed]",
                        "text/plain": [
                            "<Figure size 576x288 with 1 Axes>"
                        ]
                    },
                    "metadata": {
                        "needs_background": "light"
                    },
                    "output_type": "display_data"
                }
            ],
            "source": [
                "#Checking correlation between room_type and number_of_reviews:\n",
                "plt.figure(figsize = (8, 4))\n",
                "sns.boxplot(y = df['room_type'], x = df['number_of_reviews'], orient = 'h', showfliers = False, palette = 'gist_heat')\n",
                "plt.ylabel('Room Type') \n",
                "plt.show()"
            ]
        },
        {
            "cell_type": "code",
            "execution_count": 50,
            "metadata": {},
            "outputs": [
                {
                    "data": {
                        "text/html": [
                            "<div>\n",
                            "<style scoped>\n",
                            "    .dataframe tbody tr th:only-of-type {\n",
                            "        vertical-align: middle;\n",
                            "    }\n",
                            "\n",
                            "    .dataframe tbody tr th {\n",
                            "        vertical-align: top;\n",
                            "    }\n",
                            "\n",
                            "    .dataframe thead th {\n",
                            "        text-align: right;\n",
                            "    }\n",
                            "</style>\n",
                            "<table border=\"1\" class=\"dataframe\">\n",
                            "  <thead>\n",
                            "    <tr style=\"text-align: right;\">\n",
                            "      <th></th>\n",
                            "      <th>name</th>\n",
                            "      <th>host_id</th>\n",
                            "      <th>host_name</th>\n",
                            "      <th>neighbourhood_group</th>\n",
                            "      <th>neighbourhood</th>\n",
                            "      <th>latitude</th>\n",
                            "      <th>longitude</th>\n",
                            "      <th>room_type</th>\n",
                            "      <th>price</th>\n",
                            "      <th>minimum_nights</th>\n",
                            "      <th>number_of_reviews</th>\n",
                            "      <th>last_review</th>\n",
                            "      <th>reviews_per_month</th>\n",
                            "      <th>calculated_host_listings_count</th>\n",
                            "      <th>availability_365</th>\n",
                            "      <th>room_type_code</th>\n",
                            "      <th>neighbourhood_group_code</th>\n",
                            "    </tr>\n",
                            "    <tr>\n",
                            "      <th>id</th>\n",
                            "      <th></th>\n",
                            "      <th></th>\n",
                            "      <th></th>\n",
                            "      <th></th>\n",
                            "      <th></th>\n",
                            "      <th></th>\n",
                            "      <th></th>\n",
                            "      <th></th>\n",
                            "      <th></th>\n",
                            "      <th></th>\n",
                            "      <th></th>\n",
                            "      <th></th>\n",
                            "      <th></th>\n",
                            "      <th></th>\n",
                            "      <th></th>\n",
                            "      <th></th>\n",
                            "      <th></th>\n",
                            "    </tr>\n",
                            "  </thead>\n",
                            "  <tbody>\n",
                            "    <tr>\n",
                            "      <th>2539</th>\n",
                            "      <td>Clean &amp; quiet apt home by the park</td>\n",
                            "      <td>2787</td>\n",
                            "      <td>John</td>\n",
                            "      <td>Brooklyn</td>\n",
                            "      <td>Kensington</td>\n",
                            "      <td>40.64749</td>\n",
                            "      <td>-73.97237</td>\n",
                            "      <td>Private room</td>\n",
                            "      <td>149</td>\n",
                            "      <td>1</td>\n",
                            "      <td>9</td>\n",
                            "      <td>2018-10-19</td>\n",
                            "      <td>0.21</td>\n",
                            "      <td>6</td>\n",
                            "      <td>365</td>\n",
                            "      <td>1</td>\n",
                            "      <td>1</td>\n",
                            "    </tr>\n",
                            "    <tr>\n",
                            "      <th>2595</th>\n",
                            "      <td>Skylit Midtown Castle</td>\n",
                            "      <td>2845</td>\n",
                            "      <td>Jennifer</td>\n",
                            "      <td>Manhattan</td>\n",
                            "      <td>Midtown</td>\n",
                            "      <td>40.75362</td>\n",
                            "      <td>-73.98377</td>\n",
                            "      <td>Entire home/apt</td>\n",
                            "      <td>225</td>\n",
                            "      <td>1</td>\n",
                            "      <td>45</td>\n",
                            "      <td>2019-05-21</td>\n",
                            "      <td>0.38</td>\n",
                            "      <td>2</td>\n",
                            "      <td>355</td>\n",
                            "      <td>0</td>\n",
                            "      <td>2</td>\n",
                            "    </tr>\n",
                            "    <tr>\n",
                            "      <th>3647</th>\n",
                            "      <td>THE VILLAGE OF HARLEM....NEW YORK !</td>\n",
                            "      <td>4632</td>\n",
                            "      <td>Elisabeth</td>\n",
                            "      <td>Manhattan</td>\n",
                            "      <td>Harlem</td>\n",
                            "      <td>40.80902</td>\n",
                            "      <td>-73.94190</td>\n",
                            "      <td>Private room</td>\n",
                            "      <td>150</td>\n",
                            "      <td>3</td>\n",
                            "      <td>0</td>\n",
                            "      <td>NaT</td>\n",
                            "      <td>0.00</td>\n",
                            "      <td>1</td>\n",
                            "      <td>365</td>\n",
                            "      <td>1</td>\n",
                            "      <td>2</td>\n",
                            "    </tr>\n",
                            "    <tr>\n",
                            "      <th>3831</th>\n",
                            "      <td>Cozy Entire Floor of Brownstone</td>\n",
                            "      <td>4869</td>\n",
                            "      <td>LisaRoxanne</td>\n",
                            "      <td>Brooklyn</td>\n",
                            "      <td>Clinton Hill</td>\n",
                            "      <td>40.68514</td>\n",
                            "      <td>-73.95976</td>\n",
                            "      <td>Entire home/apt</td>\n",
                            "      <td>89</td>\n",
                            "      <td>1</td>\n",
                            "      <td>270</td>\n",
                            "      <td>2019-07-05</td>\n",
                            "      <td>4.64</td>\n",
                            "      <td>1</td>\n",
                            "      <td>194</td>\n",
                            "      <td>0</td>\n",
                            "      <td>1</td>\n",
                            "    </tr>\n",
                            "    <tr>\n",
                            "      <th>5022</th>\n",
                            "      <td>Entire Apt: Spacious Studio/Loft by central park</td>\n",
                            "      <td>7192</td>\n",
                            "      <td>Laura</td>\n",
                            "      <td>Manhattan</td>\n",
                            "      <td>East Harlem</td>\n",
                            "      <td>40.79851</td>\n",
                            "      <td>-73.94399</td>\n",
                            "      <td>Entire home/apt</td>\n",
                            "      <td>80</td>\n",
                            "      <td>10</td>\n",
                            "      <td>9</td>\n",
                            "      <td>2018-11-19</td>\n",
                            "      <td>0.10</td>\n",
                            "      <td>1</td>\n",
                            "      <td>0</td>\n",
                            "      <td>0</td>\n",
                            "      <td>2</td>\n",
                            "    </tr>\n",
                            "  </tbody>\n",
                            "</table>\n",
                            "</div>"
                        ],
                        "text/plain": [
                            "                                                  name  host_id    host_name  \\\n",
                            "id                                                                             \n",
                            "2539                Clean & quiet apt home by the park     2787         John   \n",
                            "2595                             Skylit Midtown Castle     2845     Jennifer   \n",
                            "3647               THE VILLAGE OF HARLEM....NEW YORK !     4632    Elisabeth   \n",
                            "3831                   Cozy Entire Floor of Brownstone     4869  LisaRoxanne   \n",
                            "5022  Entire Apt: Spacious Studio/Loft by central park     7192        Laura   \n",
                            "\n",
                            "     neighbourhood_group neighbourhood  latitude  longitude        room_type  \\\n",
                            "id                                                                             \n",
                            "2539            Brooklyn    Kensington  40.64749  -73.97237     Private room   \n",
                            "2595           Manhattan       Midtown  40.75362  -73.98377  Entire home/apt   \n",
                            "3647           Manhattan        Harlem  40.80902  -73.94190     Private room   \n",
                            "3831            Brooklyn  Clinton Hill  40.68514  -73.95976  Entire home/apt   \n",
                            "5022           Manhattan   East Harlem  40.79851  -73.94399  Entire home/apt   \n",
                            "\n",
                            "      price  minimum_nights  number_of_reviews last_review  reviews_per_month  \\\n",
                            "id                                                                              \n",
                            "2539    149               1                  9  2018-10-19               0.21   \n",
                            "2595    225               1                 45  2019-05-21               0.38   \n",
                            "3647    150               3                  0         NaT               0.00   \n",
                            "3831     89               1                270  2019-07-05               4.64   \n",
                            "5022     80              10                  9  2018-11-19               0.10   \n",
                            "\n",
                            "      calculated_host_listings_count  availability_365  room_type_code  \\\n",
                            "id                                                                       \n",
                            "2539                               6               365               1   \n",
                            "2595                               2               355               0   \n",
                            "3647                               1               365               1   \n",
                            "3831                               1               194               0   \n",
                            "5022                               1                 0               0   \n",
                            "\n",
                            "      neighbourhood_group_code  \n",
                            "id                              \n",
                            "2539                         1  \n",
                            "2595                         2  \n",
                            "3647                         2  \n",
                            "3831                         1  \n",
                            "5022                         2  "
                        ]
                    },
                    "execution_count": 50,
                    "metadata": {},
                    "output_type": "execute_result"
                }
            ],
            "source": [
                "from sklearn.preprocessing import LabelEncoder\n",
                "le = LabelEncoder()\n",
                " \n",
                "# Using .fit_transform function to fit label\n",
                "# encoder and return encoded label\n",
                "df['room_type_code'] = le.fit_transform(df['room_type'])\n",
                "df['neighbourhood_group_code'] = le.fit_transform(df['neighbourhood_group'])\n",
                " \n",
                "# printing label\n",
                "df.head()\n",
                "\n",
                "\n"
            ]
        },
        {
            "cell_type": "code",
            "execution_count": 43,
            "metadata": {},
            "outputs": [
                {
                    "data": {
                        "image/png": "[encoded data removed]",
                        "text/plain": [
                            "<Figure size 576x288 with 1 Axes>"
                        ]
                    },
                    "metadata": {
                        "needs_background": "light"
                    },
                    "output_type": "display_data"
                }
            ],
            "source": [
                "#Checking correlation between room_type and price:\n",
                "plt.figure(figsize = (8, 4))\n",
                "sns.boxplot(y = df['room_type'], x = df['price'], orient = 'h', showfliers = False, palette = 'gist_heat')\n",
                "plt.ylabel('Room Type') \n",
                "plt.show()"
            ]
        },
        {
            "cell_type": "code",
            "execution_count": 44,
            "metadata": {},
            "outputs": [
                {
                    "data": {
                        "text/html": [
                            "<div>\n",
                            "<style scoped>\n",
                            "    .dataframe tbody tr th:only-of-type {\n",
                            "        vertical-align: middle;\n",
                            "    }\n",
                            "\n",
                            "    .dataframe tbody tr th {\n",
                            "        vertical-align: top;\n",
                            "    }\n",
                            "\n",
                            "    .dataframe thead th {\n",
                            "        text-align: right;\n",
                            "    }\n",
                            "</style>\n",
                            "<table border=\"1\" class=\"dataframe\">\n",
                            "  <thead>\n",
                            "    <tr style=\"text-align: right;\">\n",
                            "      <th></th>\n",
                            "      <th></th>\n",
                            "      <th>host_id</th>\n",
                            "    </tr>\n",
                            "    <tr>\n",
                            "      <th>neighbourhood_group</th>\n",
                            "      <th>room_type</th>\n",
                            "      <th></th>\n",
                            "    </tr>\n",
                            "  </thead>\n",
                            "  <tbody>\n",
                            "    <tr>\n",
                            "      <th rowspan=\"3\" valign=\"top\">Staten Island</th>\n",
                            "      <th>Entire home/apt</th>\n",
                            "      <td>176</td>\n",
                            "    </tr>\n",
                            "    <tr>\n",
                            "      <th>Private room</th>\n",
                            "      <td>188</td>\n",
                            "    </tr>\n",
                            "    <tr>\n",
                            "      <th>Shared room</th>\n",
                            "      <td>9</td>\n",
                            "    </tr>\n",
                            "    <tr>\n",
                            "      <th rowspan=\"3\" valign=\"top\">Queens</th>\n",
                            "      <th>Entire home/apt</th>\n",
                            "      <td>2096</td>\n",
                            "    </tr>\n",
                            "    <tr>\n",
                            "      <th>Private room</th>\n",
                            "      <td>3372</td>\n",
                            "    </tr>\n",
                            "    <tr>\n",
                            "      <th>Shared room</th>\n",
                            "      <td>198</td>\n",
                            "    </tr>\n",
                            "    <tr>\n",
                            "      <th rowspan=\"3\" valign=\"top\">Manhattan</th>\n",
                            "      <th>Entire home/apt</th>\n",
                            "      <td>13199</td>\n",
                            "    </tr>\n",
                            "    <tr>\n",
                            "      <th>Private room</th>\n",
                            "      <td>7982</td>\n",
                            "    </tr>\n",
                            "    <tr>\n",
                            "      <th>Shared room</th>\n",
                            "      <td>480</td>\n",
                            "    </tr>\n",
                            "    <tr>\n",
                            "      <th rowspan=\"3\" valign=\"top\">Brooklyn</th>\n",
                            "      <th>Entire home/apt</th>\n",
                            "      <td>9559</td>\n",
                            "    </tr>\n",
                            "    <tr>\n",
                            "      <th>Private room</th>\n",
                            "      <td>10132</td>\n",
                            "    </tr>\n",
                            "    <tr>\n",
                            "      <th>Shared room</th>\n",
                            "      <td>413</td>\n",
                            "    </tr>\n",
                            "    <tr>\n",
                            "      <th rowspan=\"3\" valign=\"top\">Bronx</th>\n",
                            "      <th>Entire home/apt</th>\n",
                            "      <td>379</td>\n",
                            "    </tr>\n",
                            "    <tr>\n",
                            "      <th>Private room</th>\n",
                            "      <td>652</td>\n",
                            "    </tr>\n",
                            "    <tr>\n",
                            "      <th>Shared room</th>\n",
                            "      <td>60</td>\n",
                            "    </tr>\n",
                            "  </tbody>\n",
                            "</table>\n",
                            "</div>"
                        ],
                        "text/plain": [
                            "                                     host_id\n",
                            "neighbourhood_group room_type               \n",
                            "Staten Island       Entire home/apt      176\n",
                            "                    Private room         188\n",
                            "                    Shared room            9\n",
                            "Queens              Entire home/apt     2096\n",
                            "                    Private room        3372\n",
                            "                    Shared room          198\n",
                            "Manhattan           Entire home/apt    13199\n",
                            "                    Private room        7982\n",
                            "                    Shared room          480\n",
                            "Brooklyn            Entire home/apt     9559\n",
                            "                    Private room       10132\n",
                            "                    Shared room          413\n",
                            "Bronx               Entire home/apt      379\n",
                            "                    Private room         652\n",
                            "                    Shared room           60"
                        ]
                    },
                    "execution_count": 44,
                    "metadata": {},
                    "output_type": "execute_result"
                }
            ],
            "source": [
                "#amount of host by neightboudhood and room type\n",
                "df_type = df.groupby(['neighbourhood_group','room_type'])[['neighbourhood_group','room_type','host_id']].agg({'host_id':'count'}).sort_values(by=['neighbourhood_group'],ascending=False)\n",
                "df_type"
            ]
        },
        {
            "cell_type": "code",
            "execution_count": 51,
            "metadata": {},
            "outputs": [
                {
                    "data": {
                        "text/plain": [
                            "<AxesSubplot:>"
                        ]
                    },
                    "execution_count": 51,
                    "metadata": {},
                    "output_type": "execute_result"
                },
                {
                    "data": {
                        "image/png": "[encoded data removed]",
                        "text/plain": [
                            "<Figure size 864x576 with 2 Axes>"
                        ]
                    },
                    "metadata": {
                        "needs_background": "light"
                    },
                    "output_type": "display_data"
                }
            ],
            "source": [
                "#Plotting a heatmap to find relations between features\n",
                "\n",
                "plt.figure(figsize=(12, 8))\n",
                "sns.heatmap(df.corr(), annot=True,cmap='viridis', vmax=1, vmin=-1, center=0)"
            ]
        },
        {
            "cell_type": "markdown",
            "metadata": {},
            "source": [
                "Note\n",
                "- room type negative weak linear relation with price, -0.25\n",
                "- host have weak linear relation with neighbourhood_group, 0,11"
            ]
        }
    ],
    "metadata": {
        "kernelspec": {
            "display_name": "Python 3.8.13 64-bit ('3.8.13')",
            "language": "python",
            "name": "python3"
        },
        "language_info": {
            "codemirror_mode": {
                "name": "ipython",
                "version": 3
            },
            "file_extension": ".py",
            "mimetype": "text/x-python",
            "name": "python",
            "nbconvert_exporter": "python",
            "pygments_lexer": "ipython3",
            "version": "3.8.13"
        },
        "orig_nbformat": 4,
        "vscode": {
            "interpreter": {
                "hash": "110cc1dee26208153f2972f08a2ad52b6a56238dc66d48e87fb757ef2996db56"
            }
        }
    },
    "nbformat": 4,
    "nbformat_minor": 2
}
